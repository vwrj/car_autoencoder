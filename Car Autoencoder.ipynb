{
 "cells": [
  {
   "cell_type": "markdown",
   "metadata": {},
   "source": [
    "# Car Autoencoder (CIFAR-10)"
   ]
  },
  {
   "cell_type": "code",
   "execution_count": 55,
   "metadata": {},
   "outputs": [],
   "source": [
    "# import\n",
    "from keras.layers import Input, Dense, Conv2D, Conv3D, MaxPooling2D, UpSampling2D, Flatten, Dropout, AveragePooling2D\n",
    "from keras.models import Model, load_model, model_from_json \n",
    "from keras.datasets import mnist, cifar10\n",
    "from IntegratedGradients import * \n",
    "from image_utils import get_images_train, plot_side_by_side, gray_scale\n",
    "import random as random\n",
    "import numpy as np\n",
    "import matplotlib.pyplot as plt\n",
    "import os\n",
    "import cv2\n",
    "\n",
    "# constants\n",
    "IMG_SIZE = 32\n",
    "NUM_CHANNELS = 3"
   ]
  },
  {
   "cell_type": "markdown",
   "metadata": {},
   "source": [
    "## Training Data"
   ]
  },
  {
   "cell_type": "markdown",
   "metadata": {},
   "source": [
    "#### Load CIFAR-10 "
   ]
  },
  {
   "cell_type": "code",
   "execution_count": 5,
   "metadata": {
    "collapsed": true
   },
   "outputs": [],
   "source": [
    "def get_CIFAR10():\n",
    "    (x_train, y_train), (x_test, y_test) = cifar10.load_data()\n",
    "\n",
    "    # Pixel values go from 0 to 255. \n",
    "    x_train = x_train.astype('float32') / 255.\n",
    "    x_test = x_test.astype('float32') / 255.\n",
    "    \n",
    "    return (x_train, y_train, x_test, y_test)"
   ]
  },
  {
   "cell_type": "markdown",
   "metadata": {},
   "source": [
    "#### Select 'car' images"
   ]
  },
  {
   "cell_type": "code",
   "execution_count": 58,
   "metadata": {
    "collapsed": true
   },
   "outputs": [],
   "source": [
    "def select_car_images():\n",
    "    (x_train, y_train, x_test, y_test) = get_CIFAR10()\n",
    "\n",
    "    # we only want 'car' images (labeled 1): filter the rest out\n",
    "    not_cars = np.where(y_train!=1)[0]\n",
    "    x_train = np.delete(x_train, not_cars, axis=0)\n",
    "    y_train = np.delete(y_train, not_cars, axis=0)\n",
    "\n",
    "    not_cars = np.where(y_test!=1)[0]\n",
    "    x_test = np.delete(x_test, not_cars, axis=0)\n",
    "    y_test = np.delete(y_test, not_cars, axis=0)\n",
    "    \n",
    "    return (x_train, y_train, x_test, y_test)"
   ]
  },
  {
   "cell_type": "code",
   "execution_count": null,
   "metadata": {
    "collapsed": true
   },
   "outputs": [],
   "source": [
    "# verify\n",
    "(x_train, _, _, _) = select_car_images()\n",
    "r = random.randint(0, x_train.shape[0]-1)\n",
    "plt.imshow(x_train[r].reshape(IMG_SIZE, IMG_SIZE, 3))\n",
    "plt.show()"
   ]
  },
  {
   "cell_type": "markdown",
   "metadata": {},
   "source": [
    "#### Augment training data with rotations and flips"
   ]
  },
  {
   "cell_type": "code",
   "execution_count": null,
   "metadata": {
    "collapsed": true
   },
   "outputs": [],
   "source": [
    "# Run this after creating a clean augmented_images/ directory. \n",
    "\n",
    "from keras.preprocessing.image import ImageDataGenerator\n",
    "\n",
    "datagen = ImageDataGenerator(\n",
    "    rescale=1./255,\n",
    "    rotation_range=30,\n",
    "    zoom_range=[0.7, 1],\n",
    "    width_shift_range=0.2,\n",
    "    height_shift_range=0.2,\n",
    "    horizontal_flip=True)\n",
    "\n",
    "datagen.fit(x_train)\n",
    "\n",
    "i = 0\n",
    "\n",
    "for batch in datagen.flow(x_train, \n",
    "                          batch_size=256, \n",
    "                          save_to_dir='/Users/vwr/augmented_images/',\n",
    "                          save_prefix='car',\n",
    "                          save_format='jpeg'):\n",
    "    i += 1\n",
    "    if i > 20:\n",
    "        break # otherwise the generator would loop indefinitely"
   ]
  },
  {
   "cell_type": "code",
   "execution_count": null,
   "metadata": {
    "collapsed": true
   },
   "outputs": [],
   "source": [
    "# Run this after creating a clean augmented_images_zca/ directory. \n",
    "\n",
    "from keras.preprocessing.image import ImageDataGenerator\n",
    "\n",
    "datagen = ImageDataGenerator(\n",
    "    zoom_range=[0.8, 1],\n",
    "    rescale=1./255,\n",
    "    zca_whitening=True)\n",
    "\n",
    "datagen.fit(x_train)\n",
    "\n",
    "i = 0\n",
    "\n",
    "for batch in datagen.flow(x_train, \n",
    "                          batch_size=256, \n",
    "                          save_to_dir='/Users/vwr/augmented_images_zca/',\n",
    "                          save_prefix='car',\n",
    "                          save_format='jpeg'):\n",
    "    i += 1\n",
    "    if i > 10:\n",
    "        break # otherwise the generator would loop indefinitely"
   ]
  },
  {
   "cell_type": "code",
   "execution_count": null,
   "metadata": {
    "collapsed": true
   },
   "outputs": [],
   "source": [
    "# Run this after creating a clean augmented_images_feat_std/ directory. \n",
    "\n",
    "from keras.preprocessing.image import ImageDataGenerator\n",
    "\n",
    "datagen = ImageDataGenerator(\n",
    "    rescale=1./255,\n",
    "    featurewise_center=True, \n",
    "    featurewise_std_normalization=True)\n",
    "\n",
    "datagen.fit(x_train)\n",
    "\n",
    "i = 0\n",
    "\n",
    "for batch in datagen.flow(x_train, \n",
    "                          batch_size=256, \n",
    "                          save_to_dir='/Users/vwr/augmented_images_feat_std/',\n",
    "                          save_prefix='car',\n",
    "                          save_format='jpeg'):\n",
    "    i += 1\n",
    "    if i > 10:\n",
    "        break # otherwise the generator would loop indefinitely"
   ]
  },
  {
   "cell_type": "code",
   "execution_count": null,
   "metadata": {
    "collapsed": true
   },
   "outputs": [],
   "source": [
    "augmented_car_flip_zoom = get_images_train('augmented_car_flip_zoom.npy', \n",
    "                             train_dir = '/Users/vwr/augmented_images',\n",
    "                             refresh=True)"
   ]
  },
  {
   "cell_type": "code",
   "execution_count": null,
   "metadata": {
    "collapsed": true
   },
   "outputs": [],
   "source": [
    "augmented_zca = get_images_train('augmented_car_zca.npy',\n",
    "                                train_dir = '/Users/vwr/augmented_images_zca',\n",
    "                                refresh=True)"
   ]
  },
  {
   "cell_type": "code",
   "execution_count": null,
   "metadata": {
    "collapsed": true
   },
   "outputs": [],
   "source": [
    "augmented_feat_std = get_images_train('augmented_car_feat_std.npy',\n",
    "                                train_dir = '/Users/vwr/augmented_images_feat_std',\n",
    "                                     refresh=True)"
   ]
  },
  {
   "cell_type": "markdown",
   "metadata": {},
   "source": [
    "#### Create final training data"
   ]
  },
  {
   "cell_type": "code",
   "execution_count": null,
   "metadata": {
    "collapsed": true
   },
   "outputs": [],
   "source": [
    "car_train = np.concatenate((x_train, augmented_car_flip_zoom, augmented_zca, augmented_feat_std), axis = 0)\n",
    "print(car_train.shape)"
   ]
  },
  {
   "cell_type": "markdown",
   "metadata": {},
   "source": [
    " \n",
    " "
   ]
  },
  {
   "cell_type": "markdown",
   "metadata": {},
   "source": [
    "## Convolutional encoder + Dense decoder"
   ]
  },
  {
   "cell_type": "code",
   "execution_count": 23,
   "metadata": {},
   "outputs": [
    {
     "name": "stdout",
     "output_type": "stream",
     "text": [
      "_________________________________________________________________\n",
      "Layer (type)                 Output Shape              Param #   \n",
      "=================================================================\n",
      "input_1 (InputLayer)         (None, 32, 32, 3)         0         \n",
      "_________________________________________________________________\n",
      "dropout_1 (Dropout)          (None, 32, 32, 3)         0         \n",
      "_________________________________________________________________\n",
      "conv1 (Conv2D)               (None, 32, 32, 32)        896       \n",
      "_________________________________________________________________\n",
      "average_pooling2d_1 (Average (None, 16, 16, 32)        0         \n",
      "_________________________________________________________________\n",
      "conv2 (Conv2D)               (None, 16, 16, 64)        18496     \n",
      "_________________________________________________________________\n",
      "average_pooling2d_2 (Average (None, 8, 8, 64)          0         \n",
      "_________________________________________________________________\n",
      "conv3 (Conv2D)               (None, 8, 8, 64)          36928     \n",
      "_________________________________________________________________\n",
      "flatten_1 (Flatten)          (None, 4096)              0         \n",
      "_________________________________________________________________\n",
      "dense_1 (Dense)              (None, 2000)              8194000   \n",
      "_________________________________________________________________\n",
      "dense_2 (Dense)              (None, 3072)              6147072   \n",
      "_________________________________________________________________\n",
      "reshape_1 (Reshape)          (None, 32, 32, 3)         0         \n",
      "=================================================================\n",
      "Total params: 14,397,392\n",
      "Trainable params: 14,397,392\n",
      "Non-trainable params: 0\n",
      "_________________________________________________________________\n"
     ]
    }
   ],
   "source": [
    "from keras.layers import Reshape\n",
    "from keras.optimizers import Adam\n",
    "\n",
    "input_img = Input(shape=(IMG_SIZE, IMG_SIZE, NUM_CHANNELS))\n",
    "\n",
    "# build the network\n",
    "x = Dropout(0.15)(input_img)\n",
    "x = Conv2D(32, (3, 3), activation='relu', padding='same', name='conv1')(x)\n",
    "x = AveragePooling2D((2, 2), padding='same')(x)\n",
    "# x = Dropout(0.1)(x)\n",
    "x = Conv2D(64, (3, 3), activation='relu', padding='same', name='conv2')(x)\n",
    "x = AveragePooling2D((2, 2,), padding='same')(x)\n",
    "x = Conv2D(64, (3, 3), activation='relu', padding='same', name='conv3')(x)\n",
    "# encoded = MaxPooling2D((2, 2), padding='same')(x)\n",
    "encoded = Flatten()(x)\n",
    "encoded = Dense(2000, activation='relu')(encoded)\n",
    "\n",
    "# decoder\n",
    "decoded = Dense(3072, activation=\"sigmoid\")(encoded)\n",
    "decoded = Reshape((IMG_SIZE, IMG_SIZE, NUM_CHANNELS))(decoded)\n",
    "\n",
    "\n",
    "autoencoder = Model(input_img, decoded)\n",
    "autoencoder.compile(optimizer=Adam(lr=0.0015), loss='binary_crossentropy')\n",
    "autoencoder.summary()"
   ]
  },
  {
   "cell_type": "code",
   "execution_count": null,
   "metadata": {
    "collapsed": true,
    "scrolled": true
   },
   "outputs": [],
   "source": [
    "\n",
    "# train\n",
    "autoencoder.fit(car_train, car_train,\n",
    "                epochs=15,\n",
    "                batch_size=300,\n",
    "                shuffle=True,\n",
    "                )"
   ]
  },
  {
   "cell_type": "markdown",
   "metadata": {},
   "source": [
    "#### (Optional) Save/Load model"
   ]
  },
  {
   "cell_type": "code",
   "execution_count": 33,
   "metadata": {
    "collapsed": true
   },
   "outputs": [],
   "source": [
    "# autoencoder.save(\"0.5209_car_convolutional_autoencoder_20000_examples_60_epochs\")\n",
    "# autoencoder.save(\"0.5276_dropout_car_conv_autoencoder\")\n",
    "\n",
    "# boom.save_weights(\"0.5276_dropout_car_conv_autoencoder_weights\")\n",
    "# j = boom.to_json()\n",
    "# json_file = open(\"0.5276_dropout_car_conv_autoencoder_architecture.json\", \"w\")\n",
    "# json_file.write(j)\n",
    "# json_file.close()"
   ]
  },
  {
   "cell_type": "code",
   "execution_count": 60,
   "metadata": {
    "collapsed": true
   },
   "outputs": [],
   "source": [
    "# autoencoder with best performance\n",
    "autoencoder = model_from_json(open(\"0.5276_dropout_car_conv_autoencoder_architecture.json\").read())\n",
    "autoencoder.load_weights(\"0.5276_dropout_car_conv_autoencoder_weights\")"
   ]
  },
  {
   "cell_type": "markdown",
   "metadata": {},
   "source": [
    "### How well does it generalize to the test set?"
   ]
  },
  {
   "cell_type": "code",
   "execution_count": 59,
   "metadata": {},
   "outputs": [
    {
     "ename": "NameError",
     "evalue": "name 'autoencoder' is not defined",
     "output_type": "error",
     "traceback": [
      "\u001b[0;31m---------------------------------------------------------------------------\u001b[0m",
      "\u001b[0;31mNameError\u001b[0m                                 Traceback (most recent call last)",
      "\u001b[0;32m<ipython-input-59-15a3710492f3>\u001b[0m in \u001b[0;36m<module>\u001b[0;34m()\u001b[0m\n\u001b[1;32m      1\u001b[0m \u001b[0;34m(\u001b[0m\u001b[0m_\u001b[0m\u001b[0;34m,\u001b[0m \u001b[0m_\u001b[0m\u001b[0;34m,\u001b[0m \u001b[0mcar_test\u001b[0m\u001b[0;34m,\u001b[0m \u001b[0m_\u001b[0m\u001b[0;34m)\u001b[0m \u001b[0;34m=\u001b[0m \u001b[0mselect_car_images\u001b[0m\u001b[0;34m(\u001b[0m\u001b[0;34m)\u001b[0m\u001b[0;34m\u001b[0m\u001b[0m\n\u001b[0;32m----> 2\u001b[0;31m \u001b[0mdecoded_imgs\u001b[0m \u001b[0;34m=\u001b[0m \u001b[0mautoencoder\u001b[0m\u001b[0;34m.\u001b[0m\u001b[0mpredict\u001b[0m\u001b[0;34m(\u001b[0m\u001b[0mcar_test\u001b[0m\u001b[0;34m)\u001b[0m\u001b[0;34m\u001b[0m\u001b[0m\n\u001b[0m",
      "\u001b[0;31mNameError\u001b[0m: name 'autoencoder' is not defined"
     ]
    }
   ],
   "source": [
    "(_, _, car_test, _) = select_car_images()\n",
    "decoded_imgs = autoencoder.predict(car_test)"
   ]
  },
  {
   "cell_type": "code",
   "execution_count": null,
   "metadata": {
    "collapsed": true
   },
   "outputs": [],
   "source": [
    "n = 10  # the number of panels to display\n",
    "plt.figure(figsize=(20, 4))\n",
    "for i in range(n):\n",
    "    # 50\n",
    "    index = i + 50\n",
    "    # display original\n",
    "    ax = plt.subplot(2, n, i + 1)\n",
    "    plt.imshow(car_test[index].reshape(IMG_SIZE, IMG_SIZE, 3))\n",
    "    plt.gray()\n",
    "    ax.get_xaxis().set_visible(False)\n",
    "    ax.get_yaxis().set_visible(False)\n",
    "\n",
    "    # display reconstruction\n",
    "    ax = plt.subplot(2, n, i + 1 + n)\n",
    "    plt.imshow(decoded_imgs[index].reshape(IMG_SIZE, IMG_SIZE, 3))\n",
    "    plt.gray()\n",
    "    ax.get_xaxis().set_visible(False)\n",
    "    ax.get_yaxis().set_visible(False)\n",
    "plt.show()"
   ]
  },
  {
   "cell_type": "markdown",
   "metadata": {},
   "source": [
    "### Visualizing the layers/filters"
   ]
  },
  {
   "cell_type": "markdown",
   "metadata": {},
   "source": [
    "\n"
   ]
  },
  {
   "cell_type": "code",
   "execution_count": null,
   "metadata": {
    "collapsed": true
   },
   "outputs": [],
   "source": []
  },
  {
   "cell_type": "markdown",
   "metadata": {},
   "source": [
    "### Are we actually learning car features? Using our autoencoder to classify cars (transfer learning)"
   ]
  },
  {
   "cell_type": "markdown",
   "metadata": {},
   "source": [
    "#### Training data"
   ]
  },
  {
   "cell_type": "code",
   "execution_count": 62,
   "metadata": {
    "collapsed": true
   },
   "outputs": [],
   "source": [
    "(x_train, y_train, x_test, y_test) = get_CIFAR10()\n",
    "\n",
    "\"\"\"\n",
    "We want a 50/50 split of cars and \"not_cars\" (birds, dogs, trucks, etc.)\n",
    "Currently training set has a 1:9 split of cars and not_cars (50,000 examples: 5,000 cars and 45,000 not-cars). \n",
    "\n",
    "\"\"\"\n",
    "\n",
    "# get indices of not_cars - should be 45,000 of them\n",
    "indices_not_cars = np.where(y_train!=1)[0] # cars labeled with '1'\n",
    "\n",
    "# delete 90% of the not_car rows so it's roughly equal: 5,000 cars and 4,500 not-cars. \n",
    "rows_to_delete = np.delete(indices_not_cars, np.s_[0:4500], axis=0)\n",
    "x_train = np.delete(x_train, rows_to_delete, axis=0)\n",
    "y_train = np.delete(y_train, rows_to_delete, axis=0)\n",
    "\n",
    "# save the actual labels (0-9 for each class, like 'airplane', 'car', 'bird', etc.)\n",
    "actual_labels = np.copy(y_train)\n",
    "# set the labels of not_cars to 0\n",
    "indices_not_cars = np.where(y_train!=1)[0] \n",
    "y_train[indices_not_cars] = 0\n",
    "\n",
    "np.testing.assert_equal(x_train.shape[0], 9500)\n",
    "np.testing.assert_equal(np.sum(y_train), 5000)\n"
   ]
  },
  {
   "cell_type": "markdown",
   "metadata": {},
   "source": [
    "#### Load autoencoder, freeze its layers, and add a classifier layer to it"
   ]
  },
  {
   "cell_type": "code",
   "execution_count": 77,
   "metadata": {},
   "outputs": [
    {
     "name": "stdout",
     "output_type": "stream",
     "text": [
      "_________________________________________________________________\n",
      "Layer (type)                 Output Shape              Param #   \n",
      "=================================================================\n",
      "input_28 (InputLayer)        (None, 32, 32, 3)         0         \n",
      "_________________________________________________________________\n",
      "dropout_26 (Dropout)         (None, 32, 32, 3)         0         \n",
      "_________________________________________________________________\n",
      "conv1 (Conv2D)               (None, 32, 32, 32)        896       \n",
      "_________________________________________________________________\n",
      "average_pooling2d_1 (Average (None, 16, 16, 32)        0         \n",
      "_________________________________________________________________\n",
      "conv2 (Conv2D)               (None, 16, 16, 64)        18496     \n",
      "_________________________________________________________________\n",
      "average_pooling2d_2 (Average (None, 8, 8, 64)          0         \n",
      "_________________________________________________________________\n",
      "conv3 (Conv2D)               (None, 8, 8, 64)          36928     \n",
      "_________________________________________________________________\n",
      "flatten_9 (Flatten)          (None, 4096)              0         \n",
      "_________________________________________________________________\n",
      "dense_17 (Dense)             (None, 20)                81940     \n",
      "_________________________________________________________________\n",
      "dropout_9 (Dropout)          (None, 20)                0         \n",
      "_________________________________________________________________\n",
      "dense_18 (Dense)             (None, 1)                 21        \n",
      "=================================================================\n",
      "Total params: 138,281\n",
      "Trainable params: 81,961\n",
      "Non-trainable params: 56,320\n",
      "_________________________________________________________________\n"
     ]
    }
   ],
   "source": [
    "input_img = Input(shape=(IMG_SIZE, IMG_SIZE, NUM_CHANNELS))\n",
    "\n",
    "model_base = model_from_json(open(\"0.5276_dropout_car_conv_autoencoder_architecture.json\").read())\n",
    "model_base.load_weights(\"0.5276_dropout_car_conv_autoencoder_weights\")\n",
    "\n",
    "# Freeze layers of the base model (our trained encoder)\n",
    "for i in range(7):\n",
    "    model_base.layers[i].trainable = False\n",
    "x = model_base.layers[6].output\n",
    "x = Flatten()(x)\n",
    "x = Dense(20, activation='relu')(x)\n",
    "x = Dropout(0.2)(x)\n",
    "x = Dense(1, activation='sigmoid')(x)\n",
    "\n",
    "classifier = Model(model_base.input, x)\n",
    "classifier.compile(optimizer='adam', loss='binary_crossentropy', metrics=['binary_accuracy'])\n",
    "classifier.summary()"
   ]
  },
  {
   "cell_type": "code",
   "execution_count": 6,
   "metadata": {
    "collapsed": true
   },
   "outputs": [],
   "source": [
    "# My best classifier yet - only freeze first two learned car conv layers\n",
    "classifier = load_model(\"761_car_classifier_first_3_frozen\")"
   ]
  },
  {
   "cell_type": "code",
   "execution_count": 32,
   "metadata": {
    "collapsed": true
   },
   "outputs": [],
   "source": [
    "classifier.save_weights(\"761_weights\")"
   ]
  },
  {
   "cell_type": "code",
   "execution_count": 73,
   "metadata": {
    "scrolled": true
   },
   "outputs": [
    {
     "name": "stdout",
     "output_type": "stream",
     "text": [
      "Epoch 1/200\n",
      "9500/9500 [==============================] - 5s - loss: 0.0468 - binary_accuracy: 0.9835     \n",
      "Epoch 2/200\n",
      "9500/9500 [==============================] - 5s - loss: 0.0452 - binary_accuracy: 0.9846     \n",
      "Epoch 3/200\n",
      "9500/9500 [==============================] - 5s - loss: 0.0495 - binary_accuracy: 0.9825     \n",
      "Epoch 4/200\n",
      "9500/9500 [==============================] - 5s - loss: 0.0459 - binary_accuracy: 0.9841     \n",
      "Epoch 5/200\n",
      "9500/9500 [==============================] - 5s - loss: 0.0500 - binary_accuracy: 0.9816     \n",
      "Epoch 6/200\n",
      "9500/9500 [==============================] - 5s - loss: 0.0529 - binary_accuracy: 0.9822     \n",
      "Epoch 7/200\n",
      "9500/9500 [==============================] - 5s - loss: 0.0440 - binary_accuracy: 0.9849     \n",
      "Epoch 8/200\n",
      "9500/9500 [==============================] - 6s - loss: 0.0423 - binary_accuracy: 0.9852     \n",
      "Epoch 9/200\n",
      "9500/9500 [==============================] - 5s - loss: 0.0486 - binary_accuracy: 0.9849     \n",
      "Epoch 10/200\n",
      "9500/9500 [==============================] - 5s - loss: 0.0431 - binary_accuracy: 0.9860     \n",
      "Epoch 11/200\n",
      "9500/9500 [==============================] - 5s - loss: 0.0399 - binary_accuracy: 0.9864     \n",
      "Epoch 12/200\n",
      "9500/9500 [==============================] - 5s - loss: 0.0467 - binary_accuracy: 0.9838     \n",
      "Epoch 13/200\n",
      "9500/9500 [==============================] - 5s - loss: 0.0452 - binary_accuracy: 0.9843     \n",
      "Epoch 14/200\n",
      "9500/9500 [==============================] - 5s - loss: 0.0449 - binary_accuracy: 0.9833     \n",
      "Epoch 15/200\n",
      "9500/9500 [==============================] - 5s - loss: 0.0485 - binary_accuracy: 0.9821     \n",
      "Epoch 16/200\n",
      "9500/9500 [==============================] - 5s - loss: 0.0485 - binary_accuracy: 0.9832     \n",
      "Epoch 17/200\n",
      "9500/9500 [==============================] - 5s - loss: 0.0460 - binary_accuracy: 0.9842     \n",
      "Epoch 18/200\n",
      "9500/9500 [==============================] - 5s - loss: 0.0440 - binary_accuracy: 0.9848     \n",
      "Epoch 19/200\n",
      "9500/9500 [==============================] - 5s - loss: 0.0518 - binary_accuracy: 0.9809     \n",
      "Epoch 20/200\n",
      "9500/9500 [==============================] - 5s - loss: 0.0410 - binary_accuracy: 0.9857     \n",
      "Epoch 21/200\n",
      "9500/9500 [==============================] - 5s - loss: 0.0420 - binary_accuracy: 0.9859     \n",
      "Epoch 22/200\n",
      "9500/9500 [==============================] - 5s - loss: 0.0382 - binary_accuracy: 0.9882     \n",
      "Epoch 23/200\n",
      "9500/9500 [==============================] - 5s - loss: 0.0417 - binary_accuracy: 0.9867     \n",
      "Epoch 24/200\n",
      "9500/9500 [==============================] - 5s - loss: 0.0395 - binary_accuracy: 0.9878     \n",
      "Epoch 25/200\n",
      "9500/9500 [==============================] - 5s - loss: 0.0424 - binary_accuracy: 0.9867     \n",
      "Epoch 26/200\n",
      "9500/9500 [==============================] - 5s - loss: 0.0433 - binary_accuracy: 0.9851     \n",
      "Epoch 27/200\n",
      "9500/9500 [==============================] - 5s - loss: 0.0554 - binary_accuracy: 0.9785     \n",
      "Epoch 28/200\n",
      "9500/9500 [==============================] - 5s - loss: 0.0454 - binary_accuracy: 0.9846     \n",
      "Epoch 29/200\n",
      "9500/9500 [==============================] - 5s - loss: 0.0407 - binary_accuracy: 0.9867     \n",
      "Epoch 30/200\n",
      "9500/9500 [==============================] - 5s - loss: 0.0388 - binary_accuracy: 0.9873     \n",
      "Epoch 31/200\n",
      "9500/9500 [==============================] - 5s - loss: 0.0445 - binary_accuracy: 0.9846     \n",
      "Epoch 32/200\n",
      "9500/9500 [==============================] - 5s - loss: 0.0395 - binary_accuracy: 0.9855     \n",
      "Epoch 33/200\n",
      "9500/9500 [==============================] - 5s - loss: 0.0392 - binary_accuracy: 0.9863     \n",
      "Epoch 34/200\n",
      "9500/9500 [==============================] - 5s - loss: 0.0439 - binary_accuracy: 0.9843     \n",
      "Epoch 35/200\n",
      "9500/9500 [==============================] - 5s - loss: 0.0391 - binary_accuracy: 0.9856     \n",
      "Epoch 36/200\n",
      "9500/9500 [==============================] - 5s - loss: 0.0394 - binary_accuracy: 0.9875     \n",
      "Epoch 37/200\n",
      "9500/9500 [==============================] - 5s - loss: 0.0398 - binary_accuracy: 0.9867     \n",
      "Epoch 38/200\n",
      "9500/9500 [==============================] - 5s - loss: 0.0392 - binary_accuracy: 0.9865     \n",
      "Epoch 39/200\n",
      "9500/9500 [==============================] - 5s - loss: 0.0377 - binary_accuracy: 0.9867     \n",
      "Epoch 40/200\n",
      "9500/9500 [==============================] - 5s - loss: 0.0409 - binary_accuracy: 0.9848     \n",
      "Epoch 41/200\n",
      "9500/9500 [==============================] - 5s - loss: 0.0370 - binary_accuracy: 0.9878     \n",
      "Epoch 42/200\n",
      "9500/9500 [==============================] - 5s - loss: 0.0385 - binary_accuracy: 0.9866     \n",
      "Epoch 43/200\n",
      "9500/9500 [==============================] - 5s - loss: 0.0389 - binary_accuracy: 0.9858     \n",
      "Epoch 44/200\n",
      "9500/9500 [==============================] - 5s - loss: 0.0397 - binary_accuracy: 0.9860     \n",
      "Epoch 45/200\n",
      "9500/9500 [==============================] - 5s - loss: 0.0422 - binary_accuracy: 0.9858     \n",
      "Epoch 46/200\n",
      "9500/9500 [==============================] - 5s - loss: 0.0401 - binary_accuracy: 0.9871     \n",
      "Epoch 47/200\n",
      "9500/9500 [==============================] - 5s - loss: 0.0442 - binary_accuracy: 0.9852     \n",
      "Epoch 48/200\n",
      "9500/9500 [==============================] - 5s - loss: 0.0375 - binary_accuracy: 0.9868     \n",
      "Epoch 49/200\n",
      "9500/9500 [==============================] - 5s - loss: 0.0433 - binary_accuracy: 0.9841     \n",
      "Epoch 50/200\n",
      "9500/9500 [==============================] - 5s - loss: 0.0393 - binary_accuracy: 0.9860     \n",
      "Epoch 51/200\n",
      "9500/9500 [==============================] - 5s - loss: 0.0378 - binary_accuracy: 0.9860     \n",
      "Epoch 52/200\n",
      "9500/9500 [==============================] - 5s - loss: 0.0424 - binary_accuracy: 0.9857     \n",
      "Epoch 53/200\n",
      "9500/9500 [==============================] - 5s - loss: 0.0367 - binary_accuracy: 0.9877     \n",
      "Epoch 54/200\n",
      "9500/9500 [==============================] - 5s - loss: 0.0379 - binary_accuracy: 0.9867     \n",
      "Epoch 55/200\n",
      "9500/9500 [==============================] - 5s - loss: 0.0365 - binary_accuracy: 0.9886     \n",
      "Epoch 56/200\n",
      "9500/9500 [==============================] - 5s - loss: 0.0363 - binary_accuracy: 0.9874     \n",
      "Epoch 57/200\n",
      "9500/9500 [==============================] - 5s - loss: 0.0352 - binary_accuracy: 0.9876     \n",
      "Epoch 58/200\n",
      "9500/9500 [==============================] - 5s - loss: 0.0331 - binary_accuracy: 0.9896     \n",
      "Epoch 59/200\n",
      "9500/9500 [==============================] - 5s - loss: 0.0318 - binary_accuracy: 0.9886     \n",
      "Epoch 60/200\n",
      "9500/9500 [==============================] - 5s - loss: 0.0328 - binary_accuracy: 0.9897     \n",
      "Epoch 61/200\n",
      "9500/9500 [==============================] - 5s - loss: 0.0410 - binary_accuracy: 0.9853     \n",
      "Epoch 62/200\n",
      "9500/9500 [==============================] - 5s - loss: 0.0417 - binary_accuracy: 0.9851     \n",
      "Epoch 63/200\n",
      "9500/9500 [==============================] - 5s - loss: 0.0383 - binary_accuracy: 0.9860     \n",
      "Epoch 64/200\n",
      "9500/9500 [==============================] - 5s - loss: 0.0367 - binary_accuracy: 0.9881     \n",
      "Epoch 65/200\n",
      "9500/9500 [==============================] - 5s - loss: 0.0332 - binary_accuracy: 0.9887     \n",
      "Epoch 66/200\n",
      "9500/9500 [==============================] - 5s - loss: 0.0358 - binary_accuracy: 0.9880     \n",
      "Epoch 67/200\n",
      "9500/9500 [==============================] - 5s - loss: 0.0322 - binary_accuracy: 0.9893     \n",
      "Epoch 68/200\n",
      "9500/9500 [==============================] - 5s - loss: 0.0347 - binary_accuracy: 0.9894     \n",
      "Epoch 69/200\n",
      "9500/9500 [==============================] - 5s - loss: 0.0378 - binary_accuracy: 0.9864     \n",
      "Epoch 70/200\n",
      "9500/9500 [==============================] - 5s - loss: 0.0343 - binary_accuracy: 0.9881     \n",
      "Epoch 71/200\n",
      "9500/9500 [==============================] - 5s - loss: 0.0322 - binary_accuracy: 0.9889     \n",
      "Epoch 72/200\n",
      "9500/9500 [==============================] - 5s - loss: 0.0311 - binary_accuracy: 0.9885     \n",
      "Epoch 73/200\n",
      "9500/9500 [==============================] - 5s - loss: 0.0333 - binary_accuracy: 0.9880     \n",
      "Epoch 74/200\n",
      "9500/9500 [==============================] - 5s - loss: 0.0349 - binary_accuracy: 0.9875     \n",
      "Epoch 75/200\n",
      "9500/9500 [==============================] - 5s - loss: 0.0312 - binary_accuracy: 0.9896     \n",
      "Epoch 76/200\n",
      "9500/9500 [==============================] - 5s - loss: 0.0354 - binary_accuracy: 0.9874     \n",
      "Epoch 77/200\n"
     ]
    },
    {
     "name": "stdout",
     "output_type": "stream",
     "text": [
      "9500/9500 [==============================] - 5s - loss: 0.0350 - binary_accuracy: 0.9884     \n",
      "Epoch 78/200\n",
      "9500/9500 [==============================] - 5s - loss: 0.0334 - binary_accuracy: 0.9888     \n",
      "Epoch 79/200\n",
      "9500/9500 [==============================] - 5s - loss: 0.0382 - binary_accuracy: 0.9854     \n",
      "Epoch 80/200\n",
      "9500/9500 [==============================] - 5s - loss: 0.0380 - binary_accuracy: 0.9862     \n",
      "Epoch 81/200\n",
      "9500/9500 [==============================] - 5s - loss: 0.0512 - binary_accuracy: 0.9800     \n",
      "Epoch 82/200\n",
      "9500/9500 [==============================] - 5s - loss: 0.0307 - binary_accuracy: 0.9902     \n",
      "Epoch 83/200\n",
      "9500/9500 [==============================] - 5s - loss: 0.0350 - binary_accuracy: 0.9878     \n",
      "Epoch 84/200\n",
      "9500/9500 [==============================] - 5s - loss: 0.0325 - binary_accuracy: 0.9896     \n",
      "Epoch 85/200\n",
      "9500/9500 [==============================] - 5s - loss: 0.0314 - binary_accuracy: 0.9900     \n",
      "Epoch 86/200\n",
      "9500/9500 [==============================] - 5s - loss: 0.0329 - binary_accuracy: 0.9892     \n",
      "Epoch 87/200\n",
      "9500/9500 [==============================] - 5s - loss: 0.0344 - binary_accuracy: 0.9892     \n",
      "Epoch 88/200\n",
      "9500/9500 [==============================] - 5s - loss: 0.0345 - binary_accuracy: 0.9879     \n",
      "Epoch 89/200\n",
      "9500/9500 [==============================] - 5s - loss: 0.0331 - binary_accuracy: 0.9889     \n",
      "Epoch 90/200\n",
      "9500/9500 [==============================] - 5s - loss: 0.0310 - binary_accuracy: 0.9889     \n",
      "Epoch 91/200\n",
      "9500/9500 [==============================] - 5s - loss: 0.0336 - binary_accuracy: 0.9879     \n",
      "Epoch 92/200\n",
      "9500/9500 [==============================] - 5s - loss: 0.0313 - binary_accuracy: 0.9901     \n",
      "Epoch 93/200\n",
      "9500/9500 [==============================] - 5s - loss: 0.0285 - binary_accuracy: 0.9913     \n",
      "Epoch 94/200\n",
      "9500/9500 [==============================] - 5s - loss: 0.0332 - binary_accuracy: 0.9883     \n",
      "Epoch 95/200\n",
      "9500/9500 [==============================] - 5s - loss: 0.0296 - binary_accuracy: 0.9904     \n",
      "Epoch 96/200\n",
      "9500/9500 [==============================] - 5s - loss: 0.0313 - binary_accuracy: 0.9891     \n",
      "Epoch 97/200\n",
      "9500/9500 [==============================] - 5s - loss: 0.0333 - binary_accuracy: 0.9879     \n",
      "Epoch 98/200\n",
      "9500/9500 [==============================] - 5s - loss: 0.0291 - binary_accuracy: 0.9906     \n",
      "Epoch 99/200\n",
      "9500/9500 [==============================] - 5s - loss: 0.0282 - binary_accuracy: 0.9902     \n",
      "Epoch 100/200\n",
      "9500/9500 [==============================] - 5s - loss: 0.0353 - binary_accuracy: 0.9883     \n",
      "Epoch 101/200\n",
      "9500/9500 [==============================] - 5s - loss: 0.0290 - binary_accuracy: 0.9911     \n",
      "Epoch 102/200\n",
      "9500/9500 [==============================] - 5s - loss: 0.0331 - binary_accuracy: 0.9881     \n",
      "Epoch 103/200\n",
      "9500/9500 [==============================] - 5s - loss: 0.0326 - binary_accuracy: 0.9880     \n",
      "Epoch 104/200\n",
      "9500/9500 [==============================] - 5s - loss: 0.0319 - binary_accuracy: 0.9884     \n",
      "Epoch 105/200\n",
      "9500/9500 [==============================] - 5s - loss: 0.0304 - binary_accuracy: 0.9891     \n",
      "Epoch 106/200\n",
      "9500/9500 [==============================] - 5s - loss: 0.0322 - binary_accuracy: 0.9875     \n",
      "Epoch 107/200\n",
      "9500/9500 [==============================] - 5s - loss: 0.0286 - binary_accuracy: 0.9902     \n",
      "Epoch 108/200\n",
      "9500/9500 [==============================] - 5s - loss: 0.0326 - binary_accuracy: 0.9883     \n",
      "Epoch 109/200\n",
      "9500/9500 [==============================] - 5s - loss: 0.0300 - binary_accuracy: 0.9891     \n",
      "Epoch 110/200\n",
      "9500/9500 [==============================] - 5s - loss: 0.0283 - binary_accuracy: 0.9916     \n",
      "Epoch 111/200\n",
      "9500/9500 [==============================] - 5s - loss: 0.0296 - binary_accuracy: 0.9898     \n",
      "Epoch 112/200\n",
      "9500/9500 [==============================] - 5s - loss: 0.0295 - binary_accuracy: 0.9897     \n",
      "Epoch 113/200\n",
      "9500/9500 [==============================] - 5s - loss: 0.0312 - binary_accuracy: 0.9882     \n",
      "Epoch 114/200\n",
      "9500/9500 [==============================] - 5s - loss: 0.0255 - binary_accuracy: 0.9908     \n",
      "Epoch 115/200\n",
      "9500/9500 [==============================] - 5s - loss: 0.0313 - binary_accuracy: 0.9886     \n",
      "Epoch 116/200\n",
      "9500/9500 [==============================] - 5s - loss: 0.0306 - binary_accuracy: 0.9896     \n",
      "Epoch 117/200\n",
      "9500/9500 [==============================] - 5s - loss: 0.0319 - binary_accuracy: 0.9893     \n",
      "Epoch 118/200\n",
      "9500/9500 [==============================] - 5s - loss: 0.0326 - binary_accuracy: 0.9878     \n",
      "Epoch 119/200\n",
      "9500/9500 [==============================] - 5s - loss: 0.0280 - binary_accuracy: 0.9905     \n",
      "Epoch 120/200\n",
      "9500/9500 [==============================] - 5s - loss: 0.0308 - binary_accuracy: 0.9889     \n",
      "Epoch 121/200\n",
      "9500/9500 [==============================] - 5s - loss: 0.0304 - binary_accuracy: 0.9889     \n",
      "Epoch 122/200\n",
      "9500/9500 [==============================] - 5s - loss: 0.0305 - binary_accuracy: 0.9881     \n",
      "Epoch 123/200\n",
      "9500/9500 [==============================] - 5s - loss: 0.0362 - binary_accuracy: 0.9871     \n",
      "Epoch 124/200\n",
      "9500/9500 [==============================] - 5s - loss: 0.0317 - binary_accuracy: 0.9891     \n",
      "Epoch 125/200\n",
      "9500/9500 [==============================] - 5s - loss: 0.0284 - binary_accuracy: 0.9895     \n",
      "Epoch 126/200\n",
      "9500/9500 [==============================] - 5s - loss: 0.0312 - binary_accuracy: 0.9888     \n",
      "Epoch 127/200\n",
      "9500/9500 [==============================] - 5s - loss: 0.0309 - binary_accuracy: 0.9889     \n",
      "Epoch 128/200\n",
      "9500/9500 [==============================] - 5s - loss: 0.0509 - binary_accuracy: 0.9806     \n",
      "Epoch 129/200\n",
      "9500/9500 [==============================] - 5s - loss: 0.0336 - binary_accuracy: 0.9872     \n",
      "Epoch 130/200\n",
      "9500/9500 [==============================] - 5s - loss: 0.0336 - binary_accuracy: 0.9879     \n",
      "Epoch 131/200\n",
      "9500/9500 [==============================] - 5s - loss: 0.0313 - binary_accuracy: 0.9900     \n",
      "Epoch 132/200\n",
      "9500/9500 [==============================] - 5s - loss: 0.0349 - binary_accuracy: 0.9861     \n",
      "Epoch 133/200\n",
      "9500/9500 [==============================] - 5s - loss: 0.0287 - binary_accuracy: 0.9903     \n",
      "Epoch 134/200\n",
      "9500/9500 [==============================] - 5s - loss: 0.0313 - binary_accuracy: 0.9880     \n",
      "Epoch 135/200\n",
      "9500/9500 [==============================] - 5s - loss: 0.0300 - binary_accuracy: 0.9906     \n",
      "Epoch 136/200\n",
      "9500/9500 [==============================] - 5s - loss: 0.0260 - binary_accuracy: 0.9913     \n",
      "Epoch 137/200\n",
      "9500/9500 [==============================] - 5s - loss: 0.0268 - binary_accuracy: 0.9903     \n",
      "Epoch 138/200\n",
      "9500/9500 [==============================] - 5s - loss: 0.0264 - binary_accuracy: 0.9915     \n",
      "Epoch 139/200\n",
      "9500/9500 [==============================] - 5s - loss: 0.0285 - binary_accuracy: 0.9904     \n",
      "Epoch 140/200\n",
      "9500/9500 [==============================] - 5s - loss: 0.0248 - binary_accuracy: 0.9917     \n",
      "Epoch 141/200\n",
      "9500/9500 [==============================] - 5s - loss: 0.0259 - binary_accuracy: 0.9911     \n",
      "Epoch 142/200\n",
      "9500/9500 [==============================] - 5s - loss: 0.0249 - binary_accuracy: 0.9917     \n",
      "Epoch 143/200\n",
      "9500/9500 [==============================] - 5s - loss: 0.0270 - binary_accuracy: 0.9903     \n",
      "Epoch 144/200\n",
      "9500/9500 [==============================] - 5s - loss: 0.0243 - binary_accuracy: 0.9911     \n",
      "Epoch 145/200\n",
      "9500/9500 [==============================] - 5s - loss: 0.0265 - binary_accuracy: 0.9908     \n",
      "Epoch 146/200\n",
      "9500/9500 [==============================] - 5s - loss: 0.0245 - binary_accuracy: 0.9911     \n",
      "Epoch 147/200\n",
      "9500/9500 [==============================] - 5s - loss: 0.0315 - binary_accuracy: 0.9885     \n",
      "Epoch 148/200\n",
      "9500/9500 [==============================] - 5s - loss: 0.0293 - binary_accuracy: 0.9900     \n",
      "Epoch 149/200\n",
      "9500/9500 [==============================] - 5s - loss: 0.0269 - binary_accuracy: 0.9902     \n",
      "Epoch 150/200\n",
      "9500/9500 [==============================] - 5s - loss: 0.0326 - binary_accuracy: 0.9869     \n",
      "Epoch 151/200\n",
      "9500/9500 [==============================] - 5s - loss: 0.0316 - binary_accuracy: 0.9869     \n",
      "Epoch 152/200\n",
      "9500/9500 [==============================] - 5s - loss: 0.0279 - binary_accuracy: 0.9903     \n",
      "Epoch 153/200\n"
     ]
    },
    {
     "name": "stdout",
     "output_type": "stream",
     "text": [
      "9500/9500 [==============================] - 5s - loss: 0.0274 - binary_accuracy: 0.9896     \n",
      "Epoch 154/200\n",
      "9500/9500 [==============================] - 5s - loss: 0.0275 - binary_accuracy: 0.9904     \n",
      "Epoch 155/200\n",
      "9500/9500 [==============================] - 5s - loss: 0.0275 - binary_accuracy: 0.9897     \n",
      "Epoch 156/200\n",
      "9500/9500 [==============================] - 5s - loss: 0.0271 - binary_accuracy: 0.9904     \n",
      "Epoch 157/200\n",
      "9500/9500 [==============================] - 5s - loss: 0.0265 - binary_accuracy: 0.9914     \n",
      "Epoch 158/200\n",
      "9500/9500 [==============================] - 5s - loss: 0.0269 - binary_accuracy: 0.9914     \n",
      "Epoch 159/200\n",
      "9500/9500 [==============================] - 5s - loss: 0.0338 - binary_accuracy: 0.9873     \n",
      "Epoch 160/200\n",
      "9500/9500 [==============================] - 5s - loss: 0.0297 - binary_accuracy: 0.9902     \n",
      "Epoch 161/200\n",
      "9500/9500 [==============================] - 5s - loss: 0.0257 - binary_accuracy: 0.9917     \n",
      "Epoch 162/200\n",
      "9500/9500 [==============================] - 5s - loss: 0.0240 - binary_accuracy: 0.9924     \n",
      "Epoch 163/200\n",
      "9500/9500 [==============================] - 5s - loss: 0.0264 - binary_accuracy: 0.9904     \n",
      "Epoch 164/200\n",
      "9500/9500 [==============================] - 5s - loss: 0.0248 - binary_accuracy: 0.9917     \n",
      "Epoch 165/200\n",
      "9500/9500 [==============================] - 5s - loss: 0.0335 - binary_accuracy: 0.9881     \n",
      "Epoch 166/200\n",
      "9500/9500 [==============================] - 5s - loss: 0.0314 - binary_accuracy: 0.9892     \n",
      "Epoch 167/200\n",
      "9500/9500 [==============================] - 5s - loss: 0.0338 - binary_accuracy: 0.9885     \n",
      "Epoch 168/200\n",
      "9500/9500 [==============================] - 5s - loss: 0.0282 - binary_accuracy: 0.9907     \n",
      "Epoch 169/200\n",
      "9500/9500 [==============================] - 5s - loss: 0.0269 - binary_accuracy: 0.9909     \n",
      "Epoch 170/200\n",
      "9500/9500 [==============================] - 5s - loss: 0.0215 - binary_accuracy: 0.9922     \n",
      "Epoch 171/200\n",
      "9500/9500 [==============================] - 5s - loss: 0.0290 - binary_accuracy: 0.9901     \n",
      "Epoch 172/200\n",
      "9500/9500 [==============================] - 5s - loss: 0.0263 - binary_accuracy: 0.9907     \n",
      "Epoch 173/200\n",
      "9500/9500 [==============================] - 5s - loss: 0.0265 - binary_accuracy: 0.9907     \n",
      "Epoch 174/200\n",
      "9500/9500 [==============================] - 5s - loss: 0.0281 - binary_accuracy: 0.9895     \n",
      "Epoch 175/200\n",
      "9500/9500 [==============================] - 5s - loss: 0.0384 - binary_accuracy: 0.9859     \n",
      "Epoch 176/200\n",
      "9500/9500 [==============================] - 5s - loss: 0.0300 - binary_accuracy: 0.9896     \n",
      "Epoch 177/200\n",
      "9500/9500 [==============================] - 5s - loss: 0.0339 - binary_accuracy: 0.9872     \n",
      "Epoch 178/200\n",
      "9500/9500 [==============================] - 5s - loss: 0.0261 - binary_accuracy: 0.9909     \n",
      "Epoch 179/200\n",
      "9500/9500 [==============================] - 5s - loss: 0.0239 - binary_accuracy: 0.9919     \n",
      "Epoch 180/200\n",
      "9500/9500 [==============================] - 5s - loss: 0.0257 - binary_accuracy: 0.9904     \n",
      "Epoch 181/200\n",
      "9500/9500 [==============================] - 5s - loss: 0.0319 - binary_accuracy: 0.9884     \n",
      "Epoch 182/200\n",
      "9500/9500 [==============================] - 5s - loss: 0.0240 - binary_accuracy: 0.9922     \n",
      "Epoch 183/200\n",
      "9500/9500 [==============================] - 5s - loss: 0.0217 - binary_accuracy: 0.9927     \n",
      "Epoch 184/200\n",
      "9500/9500 [==============================] - 5s - loss: 0.0275 - binary_accuracy: 0.9908     \n",
      "Epoch 185/200\n",
      "9500/9500 [==============================] - 5s - loss: 0.0256 - binary_accuracy: 0.9915     \n",
      "Epoch 186/200\n",
      "9500/9500 [==============================] - 5s - loss: 0.0263 - binary_accuracy: 0.9914     \n",
      "Epoch 187/200\n",
      "9500/9500 [==============================] - 5s - loss: 0.0248 - binary_accuracy: 0.9927     \n",
      "Epoch 188/200\n",
      "9500/9500 [==============================] - 5s - loss: 0.0251 - binary_accuracy: 0.9909     \n",
      "Epoch 189/200\n",
      "9500/9500 [==============================] - 5s - loss: 0.0248 - binary_accuracy: 0.9914     \n",
      "Epoch 190/200\n",
      "9500/9500 [==============================] - 5s - loss: 0.0257 - binary_accuracy: 0.9907     \n",
      "Epoch 191/200\n",
      "9500/9500 [==============================] - 5s - loss: 0.0239 - binary_accuracy: 0.9913     \n",
      "Epoch 192/200\n",
      "9500/9500 [==============================] - 5s - loss: 0.0226 - binary_accuracy: 0.9927     \n",
      "Epoch 193/200\n",
      "9500/9500 [==============================] - 5s - loss: 0.0300 - binary_accuracy: 0.9895     \n",
      "Epoch 194/200\n",
      "9500/9500 [==============================] - 5s - loss: 0.0340 - binary_accuracy: 0.9868     \n",
      "Epoch 195/200\n",
      "9500/9500 [==============================] - 5s - loss: 0.0244 - binary_accuracy: 0.9903     \n",
      "Epoch 196/200\n",
      "9500/9500 [==============================] - 5s - loss: 0.0214 - binary_accuracy: 0.9926     \n",
      "Epoch 197/200\n",
      "9500/9500 [==============================] - 5s - loss: 0.0236 - binary_accuracy: 0.9914     \n",
      "Epoch 198/200\n",
      "9500/9500 [==============================] - 5s - loss: 0.0276 - binary_accuracy: 0.9883     \n",
      "Epoch 199/200\n",
      "9500/9500 [==============================] - 5s - loss: 0.0228 - binary_accuracy: 0.9923     \n",
      "Epoch 200/200\n",
      "9500/9500 [==============================] - 5s - loss: 0.0261 - binary_accuracy: 0.9908     \n"
     ]
    },
    {
     "data": {
      "text/plain": [
       "<keras.callbacks.History at 0x33e5c63c8>"
      ]
     },
     "execution_count": 73,
     "metadata": {},
     "output_type": "execute_result"
    }
   ],
   "source": [
    "\n",
    "# train\n",
    "classifier.fit(x_train, y_train,\n",
    "                epochs=200,\n",
    "                batch_size=256,\n",
    "                shuffle=True,\n",
    "                )"
   ]
  },
  {
   "cell_type": "code",
   "execution_count": 79,
   "metadata": {
    "collapsed": true
   },
   "outputs": [],
   "source": [
    "classifier.save(\"840_car_classifier_first_3_frozen\")"
   ]
  },
  {
   "cell_type": "code",
   "execution_count": 74,
   "metadata": {},
   "outputs": [
    {
     "name": "stdout",
     "output_type": "stream",
     "text": [
      "(10000, 1)\n"
     ]
    }
   ],
   "source": [
    "predictions = classifier.predict(x_test)\n",
    "predictions[predictions < 0.5] = 0\n",
    "predictions[predictions >= 0.5] = 1\n",
    "print(predictions.shape)"
   ]
  },
  {
   "cell_type": "markdown",
   "metadata": {},
   "source": [
    "#### Integrated Gradients"
   ]
  },
  {
   "cell_type": "code",
   "execution_count": 78,
   "metadata": {},
   "outputs": [
    {
     "name": "stdout",
     "output_type": "stream",
     "text": [
      "Evaluated output channel (0-based index): All\n",
      "Building gradient functions\n",
      "Progress: 100.0%\n",
      "Done.\n"
     ]
    },
    {
     "data": {
      "image/png": "[encoded data removed]",
      "text/plain": [
       "<matplotlib.figure.Figure at 0x33e226048>"
      ]
     },
     "metadata": {},
     "output_type": "display_data"
    }
   ],
   "source": [
    "# 6, 37, 1020, 109, 123, 66, 81, 82, 104, 105, 114, 122, 134, 161, 193, 204, 231\n",
    "# wheels!\n",
    "# 6, 1020, 66, 81, 82, 105, 114, 122, 134, 161, 193, 204\n",
    "ig = integrated_gradients(classifier)\n",
    "img = x_test[82]\n",
    "exp = ig.explain(img)\n",
    "\n",
    "exp = gray_scale(exp)\n",
    "exp = abs(exp)\n",
    "exp = np.clip(exp/np.percentile(exp, 99), 0,1)\n",
    "vis = img*exp\n",
    "\n",
    "plot_side_by_side(img, vis, titles=[\"Original\", \"Explanation\"])"
   ]
  },
  {
   "cell_type": "code",
   "execution_count": 43,
   "metadata": {},
   "outputs": [
    {
     "data": {
      "image/png": "[encoded data removed]",
      "text/plain": [
       "<matplotlib.figure.Figure at 0x331a728d0>"
      ]
     },
     "metadata": {},
     "output_type": "display_data"
    },
    {
     "name": "stdout",
     "output_type": "stream",
     "text": [
      "(1, 16, 16, 32)\n"
     ]
    },
    {
     "data": {
      "image/png": "[encoded data removed]",
      "text/plain": [
       "<matplotlib.figure.Figure at 0x332d4dc50>"
      ]
     },
     "metadata": {},
     "output_type": "display_data"
    }
   ],
   "source": [
    "###### \n",
    "displayIndex = 249\n",
    "plt.imshow(x_test[displayIndex])\n",
    "plt.show()\n",
    "\n",
    "desiredLayers = [3]\n",
    "desiredOutputs = [classifier.layers[i].output for i in desiredLayers] \n",
    "\n",
    "#alternatively, you can use cnnModel.get_layer('layername').output for that    \n",
    "\n",
    "newModel = Model(classifier.inputs, desiredOutputs)\n",
    "o = newModel.predict(x_test[displayIndex].reshape(1, 32, 32, 3))\n",
    "\n",
    "print(o.shape)\n",
    "w=10\n",
    "h=10\n",
    "fig=plt.figure(figsize=(8, 8))\n",
    "columns = 4\n",
    "rows = 5\n",
    "for i in range(1, columns*rows +1):\n",
    "    img = o[0, :, :, i]\n",
    "    fig.add_subplot(rows, columns, i)\n",
    "    plt.imshow(img)\n",
    "plt.show()"
   ]
  },
  {
   "cell_type": "markdown",
   "metadata": {},
   "source": [
    "### Extraordinary. Adding a single dense layer to the classifier (10) before the sigmoid improved loss from 0.19 (where it took forever and was converging) to 0.008. "
   ]
  },
  {
   "cell_type": "markdown",
   "metadata": {},
   "source": [
    "### Adding a Dropout layer to the Dense(10) layer improved test set performance by a lot. "
   ]
  },
  {
   "cell_type": "markdown",
   "metadata": {},
   "source": [
    "#### I think after enough iterations, it overfits the training set and does worse and worse on the test set. "
   ]
  },
  {
   "cell_type": "code",
   "execution_count": null,
   "metadata": {
    "collapsed": true
   },
   "outputs": [],
   "source": [
    "from vis.visualization import visualize_activation, visualize_saliency\n",
    "from vis.utils import utils\n",
    "from keras import activations\n",
    "\n",
    "# filter_idx = 95\n",
    "# img = visualize_activation(classifier, 5, filter_indices=filter_idx)\n",
    "# print(img.shape)\n",
    "# plt.imshow(img[..., 0])\n",
    "# plt.show()\n",
    "\n",
    "class_idx = 1\n",
    "grads = visualize_saliency(classifier, 5, filter_indices=class_idx, seed_input=x_test[1080])\n",
    "print(grads.shape)\n",
    "# Plot with 'jet' colormap to visualize as a heatmap.\n",
    "plt.imshow(grads, cmap='jet')\n",
    "plt.show()\n",
    "\n",
    "plt.imshow(x_test[1080])\n",
    "plt.show()"
   ]
  },
  {
   "cell_type": "markdown",
   "metadata": {},
   "source": [
    "#### What does our classifier get confused by? "
   ]
  },
  {
   "cell_type": "code",
   "execution_count": 75,
   "metadata": {},
   "outputs": [
    {
     "name": "stdout",
     "output_type": "stream",
     "text": [
      "{'plane': 79, 'car': 840, 'bird': 36, 'cat': 72, 'deer': 28, 'dog': 39, 'frog': 52, 'horse': 60, 'ship': 175, 'truck': 498}\n",
      "{'plane': 1000, 'car': 1000, 'bird': 1000, 'cat': 1000, 'deer': 1000, 'dog': 1000, 'frog': 1000, 'horse': 1000, 'ship': 1000, 'truck': 1000}\n"
     ]
    }
   ],
   "source": [
    "# i have predictions: for every row, I have 0 or 1 the model's prediction on whether it's a car or not\n",
    "# I have labels for every row: 0-9 based on the type of object it is\n",
    "# I want to combine them so it's like\n",
    "# model  label\n",
    "# 1 .      4\n",
    "# 1 .      1\n",
    "# 1 .      6\n",
    "# 0 .      1\n",
    "\n",
    "# I want to construct a table\n",
    "# so 4 has 5 1's, label 6 has 20 1's\n",
    "# I want to filter it\n",
    "# for every row, \n",
    "# if model's prediction is 1\n",
    "# table[category[label]] += 1\n",
    "\n",
    "# I have a dictionary from label (0 to 9) to its object (car, etc.) \n",
    "\n",
    "category_of = ['plane', 'car', 'bird', 'cat', 'deer', 'dog', 'frog', 'horse', 'ship', 'truck']\n",
    "table = {\n",
    "    'plane': 0,\n",
    "    'car': 0, \n",
    "    'bird': 0, \n",
    "    'cat': 0,\n",
    "    'deer': 0,\n",
    "    'dog': 0,\n",
    "    'frog': 0,\n",
    "    'horse': 0,\n",
    "    'ship': 0,\n",
    "    'truck': 0\n",
    "}\n",
    "\n",
    "total_counts = {\n",
    "    'plane': 0,\n",
    "    'car': 0, \n",
    "    'bird': 0, \n",
    "    'cat': 0,\n",
    "    'deer': 0,\n",
    "    'dog': 0,\n",
    "    'frog': 0,\n",
    "    'horse': 0,\n",
    "    'ship': 0,\n",
    "    'truck': 0\n",
    "}\n",
    "\n",
    "misclassified_as_cars = []\n",
    "cars_i = []\n",
    "\n",
    "for i in range(predictions.shape[0]):\n",
    "    c = category_of[y_test[i][0]]\n",
    "    total_counts[c] += 1\n",
    "    if predictions[i] == 1:\n",
    "        if c != 'car':\n",
    "            misclassified_as_cars.append(i)\n",
    "        else:\n",
    "            cars_i.append(i)\n",
    "        table[c] += 1\n",
    "        \n",
    "print(table)\n",
    "print(total_counts)\n",
    "\n",
    "# {'plane': 73, 'car': 802, 'bird': 35, 'cat': 38, \n",
    "#  'deer': 22, 'dog': 28, 'frog': 38, 'horse': 44, 'ship': 168, 'truck': 378}\n",
    "\n",
    "# {'plane': 109, 'car': 821, 'bird': 37, 'cat': 26, \n",
    "#  'deer': 14, 'dog': 12, 'frog': 14, 'horse': 26, 'ship': 209, 'truck': 505}\n",
    "\n",
    "# {'plane': 42, 'car': 700, 'bird': 17, 'cat': 18, \n",
    "#  'deer': 6, 'dog': 17, 'frog': 14, 'horse': 15, 'ship': 116, 'truck': 360}\n"
   ]
  },
  {
   "cell_type": "code",
   "execution_count": null,
   "metadata": {
    "collapsed": true
   },
   "outputs": [],
   "source": [
    "for i in range(15):\n",
    "    print(cars_i[i])"
   ]
  },
  {
   "cell_type": "code",
   "execution_count": 47,
   "metadata": {},
   "outputs": [
    {
     "name": "stdout",
     "output_type": "stream",
     "text": [
      "976\n",
      "979\n",
      "1002\n",
      "1008\n",
      "1012\n",
      "1030\n",
      "1049\n",
      "1051\n",
      "1065\n",
      "1066\n",
      "1068\n",
      "1072\n",
      "1091\n",
      "1106\n",
      "1136\n",
      "1157\n",
      "1175\n",
      "1177\n",
      "1199\n",
      "1207\n"
     ]
    },
    {
     "data": {
      "image/png": "[encoded data removed]",
      "text/plain": [
       "<matplotlib.figure.Figure at 0x33e8eb828>"
      ]
     },
     "metadata": {},
     "output_type": "display_data"
    }
   ],
   "source": [
    "w=10\n",
    "h=10\n",
    "fig=plt.figure(figsize=(8, 8))\n",
    "columns = 4\n",
    "rows = 5\n",
    "for i in range(1, columns*rows +1):\n",
    "    img = x_test[misclassified_as_cars[i+90]]\n",
    "    print(misclassified_as_cars[i+90])\n",
    "    fig.add_subplot(rows, columns, i)\n",
    "    plt.imshow(img)\n",
    "plt.show()"
   ]
  },
  {
   "cell_type": "markdown",
   "metadata": {},
   "source": [
    "### How much of each category does our classifier think is a car?\n",
    "\n",
    "#### 'car': 900/1000  \n",
    "#### 'truck': 574/1000  \n",
    "#### 'ship': 252/1000  \n",
    "#### 'plane': 123/1000  \n",
    "#### 'frog': 75/1000  \n",
    "#### 'cat': 65/1000 \n",
    "#### 'horse': 56/1000   \n",
    "#### 'bird': 44/1000  \n",
    "#### 'deer': 33/1000\n",
    "#### 'dog': 32/1000  "
   ]
  },
  {
   "cell_type": "markdown",
   "metadata": {},
   "source": [
    "### Things I Learned"
   ]
  },
  {
   "cell_type": "markdown",
   "metadata": {},
   "source": [
    "* Adding a fully-connected layer (size 10) before the classification (1, sigmoid) led to far better performance on the test set. I think it's because there were 10 classes? Not sure. \n",
    "* **Dropout** (on both the car autoencoder and the car classifier) led to much better performance on the test set. It classified more cars while making less mistakes than other categories (like 'deer' and 'horse'). "
   ]
  }
 ],
 "metadata": {
  "kernelspec": {
   "display_name": "Python 3",
   "language": "python",
   "name": "python3"
  },
  "language_info": {
   "codemirror_mode": {
    "name": "ipython",
    "version": 3
   },
   "file_extension": ".py",
   "mimetype": "text/x-python",
   "name": "python",
   "nbconvert_exporter": "python",
   "pygments_lexer": "ipython3",
   "version": "3.6.2"
  }
 },
 "nbformat": 4,
 "nbformat_minor": 2
}
