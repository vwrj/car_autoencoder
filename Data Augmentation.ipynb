{
 "cells": [
  {
   "cell_type": "markdown",
   "metadata": {},
   "source": [
    "## Experiments"
   ]
  },
  {
   "cell_type": "markdown",
   "metadata": {},
   "source": [
    "What happens when the network learns on images with noised-out/blacked-out salient pixels?  \n",
    "  \n",
    "Try 1%, 5%, 10% top salient pixels noised-out/blacked-out. \n",
    "\n",
    "Try models with bigger capacity (larger or more hidden layers). \n",
    "\n",
    "Try after injuring one tmie"
   ]
  },
  {
   "cell_type": "code",
   "execution_count": null,
   "metadata": {
    "collapsed": true
   },
   "outputs": [],
   "source": []
  },
  {
   "cell_type": "markdown",
   "metadata": {},
   "source": [
    "### Black/Noise on Salient Pixels"
   ]
  },
  {
   "cell_type": "markdown",
   "metadata": {},
   "source": [
    "Setup: Train a model to classify cars. Look at what it considers its most salient pixels. Either turn them to black or make them random noise. \n",
    "\n",
    "**Why I don't think it works**: Think about the training set: it's an even split of cars and non-cars. But this random black pixel/noise on salient pixels is only done on the cars. The trained model predicts the training set perfectly while predicting 0 for every example in the test set. Therefore, it must be able to detect the black-out noise/random noise in random parts of the image. How hard is it to learn a black pixel surrounded by white or other colors? So what I've given it is a training set with positive examples having random black/noise pixels and negative examples without. So I've created a random black pixel/noise detector lol.   \n",
    "\n",
    "**Which experiments can I design to prove this:**  \n",
    "- Add random noise to the non-cars? \n",
    "- Black/Noise on salient pixels of the non-cars? \n",
    "- Augment with the random black/noise car images (add to original car images). And then train a model, look at test performance, and look at IG's at epoch. \n",
    "\n",
    "If both of these train with 5% and 10% and have good test set performance, then I think they prove that I originally created a random black/noise detector. Plus, I can look at their IG's and determine if they make the model learn from other features of the car. \n",
    "What can I try to make this work? "
   ]
  },
  {
   "cell_type": "markdown",
   "metadata": {},
   "source": [
    "### Next steps"
   ]
  },
  {
   "cell_type": "markdown",
   "metadata": {},
   "source": [
    "Have a \"best validation loss\" vanilla conv.  \n",
    "Turn the 'IGs at epochs' into a function.   \n",
    "Do 10% saliency noise on cars.   \n",
    "Add random noise (10%) to the non-cars.   "
   ]
  }
 ],
 "metadata": {
  "kernelspec": {
   "display_name": "Python 3",
   "language": "python",
   "name": "python3"
  },
  "language_info": {
   "codemirror_mode": {
    "name": "ipython",
    "version": 3
   },
   "file_extension": ".py",
   "mimetype": "text/x-python",
   "name": "python",
   "nbconvert_exporter": "python",
   "pygments_lexer": "ipython3",
   "version": "3.6.2"
  }
 },
 "nbformat": 4,
 "nbformat_minor": 2
}
