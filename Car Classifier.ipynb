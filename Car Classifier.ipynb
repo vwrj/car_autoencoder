{
 "cells": [
  {
   "cell_type": "markdown",
   "metadata": {},
   "source": [
    "### Questions\n",
    "\n",
    "- Why the fuck does it take 9500 examples for it to learn what a car is? That's actually idiotic. \n",
    "- What if you tell it: \"this is the car part of the image\". \n",
    "- I fucking liked the IG pictures after it's trained for 1 epoch. It gives back the windshield and the car and the wheels, sometimes. \n",
    "- How do I encourage that?\n",
    "- \n",
    "- What's the Vanilla CNN architecture for CIFAR-10?  \n",
    "- Would using a 'bad' autoencoder-classifier to do IG put a lot of salient pixels on the background, which we can then use to augment data with \"bad\" car examples?  \n",
    "- Wait. In my previous experiments, I only left the most salient pixels and said those were cars (label 1)??! No!! Those are \"not cars\" or 0 (np.zeros!!) so that it could learn to look at other stuff. \n",
    "- Take a rectangle of the most salient region. If car image, take truck image and stick salient image of car on truck image. Say this is still a truck. If you only take out 10% of salient pixels, they have neighbor regions around them. Model can learn from those pixels. Rectangle is fixed size. Find a way to put that rectangle such that you remove as much saliency as possible. Black out the rectangle. Do it for the other class too? Trucks? Find the most salient images. Start with cars and dogs.   \n",
    "- I noticed that after it's trained for 1 epoch, the ig gives you almost the entire car back. But it seems to focus on narrower and narrower parts of the image? Look at generalization error (on validation set) as you increase the number of epochs. It goes down as network learns and up after it overfits. Is IG focusing on narrower and narrower parts of the image but generalization error keeps going down?  \n",
    "  \n",
    "- Try classifier_one_epoch on different picture and see what the IG is: cars classified not as cars, animals classified as cars, etc. See exactly what it returns. "
   ]
  },
  {
   "cell_type": "markdown",
   "metadata": {},
   "source": [
    "So what's going on here.   \n",
    "I wanted to train only on cars with salient pixels blacked out.   \n",
    "So I took those cars (~5000): images and labels (1). \n",
    "And I took the not_cars (~5000): images and labels (0). \n",
    "And I concatenated them. \n",
    "That should have been good. \n",
    "\n",
    "Do I actually have that?\n",
    "\n",
    "On the train set, is it picking up on the fact that images with black pixels randomly are cars? So then I have to fill them in with something else. Random noise. "
   ]
  },
  {
   "cell_type": "markdown",
   "metadata": {},
   "source": [
    "## Results"
   ]
  },
  {
   "cell_type": "markdown",
   "metadata": {},
   "source": [
    "**Experiment 1** \n",
    "- Train vanilla cnn for 2 epochs (so it's an \"okay\" model)\n",
    "- Find its most salient pixels (90%) and black them out (so a small black band within car or background)\n",
    "- Those images are still cars (label 1)\n",
    "- So add those to the training set and figure out if it can learn other car features. \n",
    "\n",
    "Result  \n",
    "- 824_100_epochs_fragmented_saliency_blots_very_good_separation  \n",
    "{'plane': 59, 'car': 824, 'bird': 16, 'cat': 13, 'deer': 4, 'dog': 8, 'frog': 18, 'horse': 10, 'ship': 95, 'truck': 264}  \n",
    "- IG's don't really look that much different. Mostly the same. Maybe the experimental one had a bit less with the background and features. Looked a ~ little bit less noisy. Not sure\n",
    "\n",
    "**Experiment 2**\n",
    "- Use trained model from Experiment 1. \n",
    "- Find its most salient pixels (80%) and black them out. \n",
    "- Those images are still cars (label 1). \n",
    "- So add those to the training set to figure out if it can learn other car features. \n",
    "- Basically you're fucking it and saying these are not salient pixels. Figure some other stuff out. \n",
    "\n",
    "Result  \n",
    "- Again, kind of whatever. \n",
    "- {'plane': 52, 'car': 868, 'bird': 29, 'cat': 39, 'deer': 17, 'dog': 26, 'frog': 32, 'horse': 26, 'ship': 106, 'truck': 306}\n",
    "- Maybe the experimental one had more background and features. Looked a ~ little bit less noisy. Not sure\n",
    "\n",
    "**Experiment 3**\n",
    "- Run Vanilla Car CNN. \n",
    "- Every epoch, check IG pictures. \n",
    "\n",
    "Result\n",
    "- Really interesting. After the 1st or 2nd epoch, the IG shows the entire car as being important. As number of epochs increases (3 and 5) it starts to focus on smaller and smaller parts of the image.  \n",
    "\n",
    "**Experiment 4**\n",
    "- Training only on pictures where all the cars have their salient pixels blotted out/static noise. \n",
    "- Dude idk. Neural network just predicts 0 and everything. Distribution of cars and not_cars is 50:50. \n",
    "- Eventually it just predicts 0 for everything. And it says the training loss is going down. \n",
    "- I honestly don't know. \n",
    "\n",
    "Results\n",
    "- When I change to top 1% salient random noise, it starts working again. But the results are like meh. \n",
    "\n",
    "**Experiment 5**\n",
    "- Plot validation loss per number of epochs of a vanilla car CNN. \n",
    "Results\n",
    "- Around 10-15 epochs is when test loss is at a minimum. After that it slowly increases. \n",
    "\n",
    "**Experiment 6**\n",
    "- For each increment of 5, generate ig examples (black and white) of the classifier on 5 different images. \n",
    "\n",
    "Results:\n",
    "- They look super cool. \n",
    "- By the first epoch, it gives you back the entire image of the car and the relevant background. \n",
    "- I still don't quite understand this. \n",
    "- When I plotted validation loss on test set, after 2-3 epochs, it reaches where its minimum is. \n",
    "- And then by later epochs, it gives you stripes of pixels inside the car (like a proto-car). \n",
    "- By epoch 56, it gets messier. "
   ]
  },
  {
   "cell_type": "markdown",
   "metadata": {},
   "source": [
    "### Current Experiment"
   ]
  },
  {
   "cell_type": "markdown",
   "metadata": {},
   "source": [
    "- For each increment of 5, generate ig examples (black and white) of the classifier on 5 different images. "
   ]
  },
  {
   "cell_type": "code",
   "execution_count": 1,
   "metadata": {},
   "outputs": [
    {
     "name": "stderr",
     "output_type": "stream",
     "text": [
      "Using TensorFlow backend.\n"
     ]
    }
   ],
   "source": [
    "# import\n",
    "from keras.layers import Input, Dense, Conv2D, Conv3D, MaxPooling2D, UpSampling2D, Flatten, Dropout, AveragePooling2D\n",
    "from keras.models import Model, load_model, model_from_json \n",
    "from keras.datasets import mnist, cifar10\n",
    "from keras.callbacks import EarlyStopping\n",
    "from utils.IntegratedGradients import * \n",
    "from utils.image_utils import get_images, save_image, plot_side_by_side, gray_scale\n",
    "from PIL import Image\n",
    "import random as random\n",
    "import numpy as np\n",
    "import matplotlib.pyplot as plt\n",
    "import os\n",
    "import cv2\n",
    "\n",
    "# constants\n",
    "IMG_SIZE = 32\n",
    "NUM_CHANNELS = 3"
   ]
  },
  {
   "cell_type": "markdown",
   "metadata": {},
   "source": [
    "### Load cars from CIFAR-10"
   ]
  },
  {
   "cell_type": "code",
   "execution_count": 2,
   "metadata": {
    "collapsed": true
   },
   "outputs": [],
   "source": [
    "def load_CIFAR10():\n",
    "    (x_train, y_train), (x_test, y_test) = cifar10.load_data()\n",
    "\n",
    "    # Pixel values go from 0 to 255. \n",
    "    x_train = x_train.astype('float32') / 255.\n",
    "    x_test = x_test.astype('float32') / 255.\n",
    "    \n",
    "    return (x_train, y_train, x_test, y_test)\n",
    "\n",
    "def select_car_images():\n",
    "    (x_train, y_train, x_test, y_test) = load_CIFAR10()\n",
    "\n",
    "    # we only want 'car' images (labeled 1): filter the rest out\n",
    "    not_cars = np.where(y_train!=1)[0]\n",
    "    x_train = np.delete(x_train, not_cars, axis=0)\n",
    "    y_train = np.delete(y_train, not_cars, axis=0)\n",
    "\n",
    "    not_cars = np.where(y_test!=1)[0]\n",
    "    x_test = np.delete(x_test, not_cars, axis=0)\n",
    "    y_test = np.delete(y_test, not_cars, axis=0)\n",
    "    \n",
    "    return (x_train, y_train, x_test, y_test)\n",
    "\n",
    "# verify\n",
    "# (x_train, _, _, _) = select_car_images()\n",
    "# r = random.randint(0, x_train.shape[0]-1)\n",
    "# plt.imshow(x_train[r].reshape(IMG_SIZE, IMG_SIZE, 3))\n",
    "# plt.show()"
   ]
  },
  {
   "cell_type": "markdown",
   "metadata": {},
   "source": [
    "## End-to-End Car Classifier"
   ]
  },
  {
   "cell_type": "markdown",
   "metadata": {},
   "source": [
    "### Training Data"
   ]
  },
  {
   "cell_type": "code",
   "execution_count": 64,
   "metadata": {},
   "outputs": [
    {
     "name": "stdout",
     "output_type": "stream",
     "text": [
      "9500\n",
      "5000\n"
     ]
    }
   ],
   "source": [
    "(x_train, y_train, x_test, y_test) = load_CIFAR10()\n",
    "\n",
    "\"\"\"\n",
    "We want a 50/50 split of cars and \"not_cars\" (birds, dogs, trucks, etc.)\n",
    "Currently training set has a 1:9 split of cars and not_cars (50,000 examples: 5,000 cars and 45,000 not-cars). \n",
    "\n",
    "\"\"\"\n",
    "\n",
    "# get indices of not_cars - should be 45,000 of them\n",
    "indices_not_cars = np.where(y_train!=1)[0] # cars labeled with '1'\n",
    "\n",
    "# delete 90% of the not_car rows so it's roughly equal: 5,000 cars and 4,500 not-cars. \n",
    "rows_to_delete = np.delete(indices_not_cars, np.s_[0:4500], axis=0)\n",
    "x_train = np.delete(x_train, rows_to_delete, axis=0)\n",
    "y_train = np.delete(y_train, rows_to_delete, axis=0)\n",
    "\n",
    "# save the actual labels (0-9 for each class, like 'airplane', 'car', 'bird', etc.)\n",
    "actual_labels = np.copy(y_train)\n",
    "# set the labels of not_cars to 0\n",
    "indices_not_cars = np.where(y_train!=1)[0] \n",
    "y_train[indices_not_cars] = 0\n",
    "print(x_train.shape[0])\n",
    "print(np.sum(y_train))\n",
    "\n",
    "# np.testing.assert_equal(x_train.shape[0], 9500)\n",
    "# np.testing.assert_equal(np.sum(y_train), 5000)"
   ]
  },
  {
   "cell_type": "code",
   "execution_count": 62,
   "metadata": {},
   "outputs": [
    {
     "name": "stdout",
     "output_type": "stream",
     "text": [
      "Fetching and processing images from directory:  /Users/vwr/fragmented_saliency_cars_top_5%/\n",
      "Saved training data into:  fragmented_saliency.npy\n",
      "Shape of training data: (4112, 32, 32, 3)\n",
      "(4112, 32, 32, 3)\n",
      "(4500, 32, 32, 3)\n",
      "(4500, 1)\n",
      "0\n"
     ]
    }
   ],
   "source": [
    "fragmented_saliency = get_images('fragmented_saliency.npy', img_dir = '/Users/vwr/fragmented_saliency_cars_top_5%/',\n",
    "                                           refresh=True)\n",
    "\n",
    "### Combine fragmented saliency car images with non-car images for the train. \n",
    "(x_train, y_train, x_test, y_test) = load_CIFAR10()\n",
    "# get indices of not_cars - should be 45,000 of them\n",
    "indices_cars = np.where(y_train==1)[0] # cars labeled with '1'\n",
    "not_cars_x_train = np.delete(x_train, indices_cars, axis=0)\n",
    "not_cars_x_train = not_cars_x_train[0:4500, :, :, :]\n",
    "not_cars_y_train = np.delete(y_train, indices_cars, axis=0)\n",
    "not_cars_y_train = not_cars_y_train[0:4500, :]\n",
    "print(fragmented_saliency.shape)\n",
    "print(not_cars_x_train.shape)\n",
    "print(not_cars_y_train.shape)\n",
    "not_cars_y_train[:,:] = 0\n",
    "print(np.sum(not_cars_y_train))\n",
    "\n",
    "# def add_random_noise_to_images(imgs, num_pixels, black_out = False):\n",
    "#     for row in range(imgs.shape[0]):\n",
    "#         img = imgs[row]\n",
    "#         # find 10 random pixel locations (random locations from 0 to 32x32-1=1023)\n",
    "#         rand_idx = np.random.randint((IMG_SIZE * IMG_SIZE) - 1, size=num_pixels)\n",
    "#         for rand_i in rand_idx:\n",
    "#             rr = int(rand_i / IMG_SIZE)\n",
    "#             cc = rand_i % IMG_SIZE\n",
    "#             if black_out:\n",
    "#                 img[rr][cc] = 0\n",
    "#             else:\n",
    "#                 img[rr][cc][0] = np.random.random()\n",
    "#                 img[rr][cc][1] = np.random.random()\n",
    "#                 img[rr][cc][2] = np.random.random()\n",
    "            \n",
    "# add_random_noise_to_images(not_cars_x_train, 50, black_out = True)"
   ]
  },
  {
   "cell_type": "code",
   "execution_count": 63,
   "metadata": {},
   "outputs": [
    {
     "name": "stdout",
     "output_type": "stream",
     "text": [
      "Fetching and processing images from directory:  /Users/vwr/fragmented_saliency_non_cars_top_5%/\n",
      "Saved training data into:  fragmented_saliency_not_cars.npy\n",
      "Shape of training data: (4500, 32, 32, 3)\n"
     ]
    }
   ],
   "source": [
    "fragmented_saliency_not_cars_x_train = get_images('fragmented_saliency_not_cars.npy', \n",
    "                                                  img_dir = '/Users/vwr/fragmented_saliency_non_cars_top_5%/',\n",
    "                                                  refresh=True)"
   ]
  },
  {
   "cell_type": "code",
   "execution_count": 65,
   "metadata": {},
   "outputs": [
    {
     "name": "stdout",
     "output_type": "stream",
     "text": [
      "(18112, 32, 32, 3)\n",
      "(18112, 1)\n",
      "9112.0\n",
      "9112\n"
     ]
    }
   ],
   "source": [
    "fragmented_saliency_y_train = np.ones((fragmented_saliency.shape[0], 1))\n",
    "salient_not_cars_train_x = np.concatenate((x_train, fragmented_saliency, fragmented_saliency_not_cars_x_train), axis=0)\n",
    "salient_not_cars_train_y = np.concatenate((y_train, fragmented_saliency_y_train, not_cars_y_train), axis=0)\n",
    "print(salient_not_cars_train_x.shape)\n",
    "print(salient_not_cars_train_y.shape)\n",
    "print(np.sum(salient_not_cars_train_y))\n",
    "print(len(np.where(salient_not_cars_train_y == 1)[0]))\n"
   ]
  },
  {
   "cell_type": "code",
   "execution_count": 53,
   "metadata": {},
   "outputs": [
    {
     "name": "stdout",
     "output_type": "stream",
     "text": [
      "225000\n"
     ]
    }
   ],
   "source": [
    "print(np.sum(y_train))"
   ]
  },
  {
   "cell_type": "code",
   "execution_count": null,
   "metadata": {
    "collapsed": true
   },
   "outputs": [],
   "source": [
    "s = np.arange(salient_not_cars_train_x.shape[0])\n",
    "salient_not_cars_train_x = salient_not_cars_train_x[s]\n",
    "salient_not_cars_train_y = salient_not_cars_train_y[s]"
   ]
  },
  {
   "cell_type": "code",
   "execution_count": null,
   "metadata": {},
   "outputs": [],
   "source": [
    "print(x_train.shape)\n",
    "print(np.sum(y_train))"
   ]
  },
  {
   "cell_type": "markdown",
   "metadata": {},
   "source": [
    "#### Combine training data"
   ]
  },
  {
   "cell_type": "code",
   "execution_count": null,
   "metadata": {},
   "outputs": [],
   "source": [
    "car_train = np.concatenate((x_train, fragmented_saliency), axis = 0)\n",
    "print(car_train.shape)\n",
    "combined_y_train = np.concatenate((y_train, fragmented_saliency_y_train), axis = 0)\n",
    "print(combined_y_train.shape)\n",
    "print(np.sum(combined_y_train))"
   ]
  },
  {
   "cell_type": "markdown",
   "metadata": {},
   "source": [
    "### Define architecture + fit"
   ]
  },
  {
   "cell_type": "code",
   "execution_count": 66,
   "metadata": {},
   "outputs": [
    {
     "name": "stdout",
     "output_type": "stream",
     "text": [
      "_________________________________________________________________\n",
      "Layer (type)                 Output Shape              Param #   \n",
      "=================================================================\n",
      "input_7 (InputLayer)         (None, 32, 32, 3)         0         \n",
      "_________________________________________________________________\n",
      "dropout_19 (Dropout)         (None, 32, 32, 3)         0         \n",
      "_________________________________________________________________\n",
      "conv1 (Conv2D)               (None, 32, 32, 64)        1792      \n",
      "_________________________________________________________________\n",
      "conv2 (Conv2D)               (None, 32, 32, 64)        36928     \n",
      "_________________________________________________________________\n",
      "average_pooling2d_7 (Average (None, 16, 16, 64)        0         \n",
      "_________________________________________________________________\n",
      "conv3 (Conv2D)               (None, 16, 16, 64)        36928     \n",
      "_________________________________________________________________\n",
      "conv4 (Conv2D)               (None, 16, 16, 64)        36928     \n",
      "_________________________________________________________________\n",
      "max_pooling2d_7 (MaxPooling2 (None, 8, 8, 64)          0         \n",
      "_________________________________________________________________\n",
      "conv5 (Conv2D)               (None, 8, 8, 64)          36928     \n",
      "_________________________________________________________________\n",
      "flatten_7 (Flatten)          (None, 4096)              0         \n",
      "_________________________________________________________________\n",
      "dense_19 (Dense)             (None, 150)               614550    \n",
      "_________________________________________________________________\n",
      "dropout_20 (Dropout)         (None, 150)               0         \n",
      "_________________________________________________________________\n",
      "dense_20 (Dense)             (None, 20)                3020      \n",
      "_________________________________________________________________\n",
      "dropout_21 (Dropout)         (None, 20)                0         \n",
      "_________________________________________________________________\n",
      "dense_21 (Dense)             (None, 1)                 21        \n",
      "=================================================================\n",
      "Total params: 767,095\n",
      "Trainable params: 767,095\n",
      "Non-trainable params: 0\n",
      "_________________________________________________________________\n"
     ]
    }
   ],
   "source": [
    "from keras.layers import Reshape\n",
    "from keras.optimizers import Adam, Adagrad\n",
    "from keras import losses\n",
    "\n",
    "input_img = Input(shape=(IMG_SIZE, IMG_SIZE, NUM_CHANNELS))\n",
    "\n",
    "# build the network\n",
    "x = Dropout(0.15)(input_img)\n",
    "x = Conv2D(64, (3, 3), activation='relu', padding='same', name='conv1')(x)\n",
    "x = Conv2D(64, (3, 3), activation='relu', padding='same', name='conv2')(x)\n",
    "x = AveragePooling2D((2, 2), padding='same')(x)\n",
    "# x = Dropout(0.1)(x)\n",
    "x = Conv2D(64, (3, 3), activation='relu', padding='same', name='conv3')(x)\n",
    "x = Conv2D(64, (3, 3), activation='relu', padding='same', name='conv4')(x)\n",
    "x = MaxPooling2D((2, 2,), padding='same')(x)\n",
    "x = Conv2D(64, (3, 3), activation='relu', padding='same', name='conv5')(x)\n",
    "# encoded = MaxPooling2D((2, 2), padding='same')(x)\n",
    "x = Flatten()(x)\n",
    "x = Dense(150, activation='relu')(x)\n",
    "x = Dropout(0.2)(x)\n",
    "x = Dense(20, activation='relu')(x)\n",
    "x = Dropout(0.2)(x)\n",
    "x = Dense(1, activation='sigmoid')(x)\n",
    "\n",
    "\n",
    "classifier = Model(input_img, x)\n",
    "classifier.compile(optimizer=Adam(), loss='binary_crossentropy')\n",
    "classifier.summary()"
   ]
  },
  {
   "cell_type": "code",
   "execution_count": null,
   "metadata": {
    "collapsed": true
   },
   "outputs": [],
   "source": [
    "# train on augmented training set\n",
    "classifier.fit(car_train, combined_y_train, epochs=50, batch_size=256, shuffle=True,)\n"
   ]
  },
  {
   "cell_type": "code",
   "execution_count": 105,
   "metadata": {
    "scrolled": true
   },
   "outputs": [
    {
     "name": "stdout",
     "output_type": "stream",
     "text": [
      "Epoch 1/26\n",
      "18112/18112 [==============================] - 125s - loss: 0.0541   \n",
      "Epoch 2/26\n",
      "17920/18112 [============================>.] - ETA: 1s - loss: 0.0372"
     ]
    },
    {
     "ename": "KeyboardInterrupt",
     "evalue": "",
     "output_type": "error",
     "traceback": [
      "\u001b[0;31m---------------------------------------------------------------------------\u001b[0m",
      "\u001b[0;31mKeyboardInterrupt\u001b[0m                         Traceback (most recent call last)",
      "\u001b[0;32m<ipython-input-105-b058b5c7c903>\u001b[0m in \u001b[0;36m<module>\u001b[0;34m()\u001b[0m\n\u001b[1;32m      3\u001b[0m \u001b[0;31m# y_test[indices_not_cars] = 0\u001b[0m\u001b[0;34m\u001b[0m\u001b[0;34m\u001b[0m\u001b[0m\n\u001b[1;32m      4\u001b[0m \u001b[0;31m# classifier.fit(x_train, y_train, epochs=26, batch_size=256, shuffle=True,) # validation_data=(x_test, y_test)\u001b[0m\u001b[0;34m\u001b[0m\u001b[0;34m\u001b[0m\u001b[0m\n\u001b[0;32m----> 5\u001b[0;31m \u001b[0mclassifier\u001b[0m\u001b[0;34m.\u001b[0m\u001b[0mfit\u001b[0m\u001b[0;34m(\u001b[0m\u001b[0msalient_not_cars_train_x\u001b[0m\u001b[0;34m,\u001b[0m \u001b[0msalient_not_cars_train_y\u001b[0m\u001b[0;34m,\u001b[0m \u001b[0mepochs\u001b[0m\u001b[0;34m=\u001b[0m\u001b[0;36m26\u001b[0m\u001b[0;34m,\u001b[0m \u001b[0mbatch_size\u001b[0m\u001b[0;34m=\u001b[0m\u001b[0;36m256\u001b[0m\u001b[0;34m,\u001b[0m \u001b[0mshuffle\u001b[0m\u001b[0;34m=\u001b[0m\u001b[0;32mTrue\u001b[0m\u001b[0;34m,\u001b[0m\u001b[0;34m)\u001b[0m \u001b[0;31m# validation_data=(x_test, y_test)\u001b[0m\u001b[0;34m\u001b[0m\u001b[0m\n\u001b[0m",
      "\u001b[0;32m~/anaconda3/lib/python3.6/site-packages/keras/engine/training.py\u001b[0m in \u001b[0;36mfit\u001b[0;34m(self, x, y, batch_size, epochs, verbose, callbacks, validation_split, validation_data, shuffle, class_weight, sample_weight, initial_epoch, **kwargs)\u001b[0m\n\u001b[1;32m   1428\u001b[0m                               \u001b[0mval_f\u001b[0m\u001b[0;34m=\u001b[0m\u001b[0mval_f\u001b[0m\u001b[0;34m,\u001b[0m \u001b[0mval_ins\u001b[0m\u001b[0;34m=\u001b[0m\u001b[0mval_ins\u001b[0m\u001b[0;34m,\u001b[0m \u001b[0mshuffle\u001b[0m\u001b[0;34m=\u001b[0m\u001b[0mshuffle\u001b[0m\u001b[0;34m,\u001b[0m\u001b[0;34m\u001b[0m\u001b[0m\n\u001b[1;32m   1429\u001b[0m                               \u001b[0mcallback_metrics\u001b[0m\u001b[0;34m=\u001b[0m\u001b[0mcallback_metrics\u001b[0m\u001b[0;34m,\u001b[0m\u001b[0;34m\u001b[0m\u001b[0m\n\u001b[0;32m-> 1430\u001b[0;31m                               initial_epoch=initial_epoch)\n\u001b[0m\u001b[1;32m   1431\u001b[0m \u001b[0;34m\u001b[0m\u001b[0m\n\u001b[1;32m   1432\u001b[0m     \u001b[0;32mdef\u001b[0m \u001b[0mevaluate\u001b[0m\u001b[0;34m(\u001b[0m\u001b[0mself\u001b[0m\u001b[0;34m,\u001b[0m \u001b[0mx\u001b[0m\u001b[0;34m,\u001b[0m \u001b[0my\u001b[0m\u001b[0;34m,\u001b[0m \u001b[0mbatch_size\u001b[0m\u001b[0;34m=\u001b[0m\u001b[0;36m32\u001b[0m\u001b[0;34m,\u001b[0m \u001b[0mverbose\u001b[0m\u001b[0;34m=\u001b[0m\u001b[0;36m1\u001b[0m\u001b[0;34m,\u001b[0m \u001b[0msample_weight\u001b[0m\u001b[0;34m=\u001b[0m\u001b[0;32mNone\u001b[0m\u001b[0;34m)\u001b[0m\u001b[0;34m:\u001b[0m\u001b[0;34m\u001b[0m\u001b[0m\n",
      "\u001b[0;32m~/anaconda3/lib/python3.6/site-packages/keras/engine/training.py\u001b[0m in \u001b[0;36m_fit_loop\u001b[0;34m(self, f, ins, out_labels, batch_size, epochs, verbose, callbacks, val_f, val_ins, shuffle, callback_metrics, initial_epoch)\u001b[0m\n\u001b[1;32m   1077\u001b[0m                 \u001b[0mbatch_logs\u001b[0m\u001b[0;34m[\u001b[0m\u001b[0;34m'size'\u001b[0m\u001b[0;34m]\u001b[0m \u001b[0;34m=\u001b[0m \u001b[0mlen\u001b[0m\u001b[0;34m(\u001b[0m\u001b[0mbatch_ids\u001b[0m\u001b[0;34m)\u001b[0m\u001b[0;34m\u001b[0m\u001b[0m\n\u001b[1;32m   1078\u001b[0m                 \u001b[0mcallbacks\u001b[0m\u001b[0;34m.\u001b[0m\u001b[0mon_batch_begin\u001b[0m\u001b[0;34m(\u001b[0m\u001b[0mbatch_index\u001b[0m\u001b[0;34m,\u001b[0m \u001b[0mbatch_logs\u001b[0m\u001b[0;34m)\u001b[0m\u001b[0;34m\u001b[0m\u001b[0m\n\u001b[0;32m-> 1079\u001b[0;31m                 \u001b[0mouts\u001b[0m \u001b[0;34m=\u001b[0m \u001b[0mf\u001b[0m\u001b[0;34m(\u001b[0m\u001b[0mins_batch\u001b[0m\u001b[0;34m)\u001b[0m\u001b[0;34m\u001b[0m\u001b[0m\n\u001b[0m\u001b[1;32m   1080\u001b[0m                 \u001b[0;32mif\u001b[0m \u001b[0;32mnot\u001b[0m \u001b[0misinstance\u001b[0m\u001b[0;34m(\u001b[0m\u001b[0mouts\u001b[0m\u001b[0;34m,\u001b[0m \u001b[0mlist\u001b[0m\u001b[0;34m)\u001b[0m\u001b[0;34m:\u001b[0m\u001b[0;34m\u001b[0m\u001b[0m\n\u001b[1;32m   1081\u001b[0m                     \u001b[0mouts\u001b[0m \u001b[0;34m=\u001b[0m \u001b[0;34m[\u001b[0m\u001b[0mouts\u001b[0m\u001b[0;34m]\u001b[0m\u001b[0;34m\u001b[0m\u001b[0m\n",
      "\u001b[0;32m~/anaconda3/lib/python3.6/site-packages/keras/backend/tensorflow_backend.py\u001b[0m in \u001b[0;36m__call__\u001b[0;34m(self, inputs)\u001b[0m\n\u001b[1;32m   2266\u001b[0m         updated = session.run(self.outputs + [self.updates_op],\n\u001b[1;32m   2267\u001b[0m                               \u001b[0mfeed_dict\u001b[0m\u001b[0;34m=\u001b[0m\u001b[0mfeed_dict\u001b[0m\u001b[0;34m,\u001b[0m\u001b[0;34m\u001b[0m\u001b[0m\n\u001b[0;32m-> 2268\u001b[0;31m                               **self.session_kwargs)\n\u001b[0m\u001b[1;32m   2269\u001b[0m         \u001b[0;32mreturn\u001b[0m \u001b[0mupdated\u001b[0m\u001b[0;34m[\u001b[0m\u001b[0;34m:\u001b[0m\u001b[0mlen\u001b[0m\u001b[0;34m(\u001b[0m\u001b[0mself\u001b[0m\u001b[0;34m.\u001b[0m\u001b[0moutputs\u001b[0m\u001b[0;34m)\u001b[0m\u001b[0;34m]\u001b[0m\u001b[0;34m\u001b[0m\u001b[0m\n\u001b[1;32m   2270\u001b[0m \u001b[0;34m\u001b[0m\u001b[0m\n",
      "\u001b[0;32m~/anaconda3/lib/python3.6/site-packages/tensorflow/python/client/session.py\u001b[0m in \u001b[0;36mrun\u001b[0;34m(self, fetches, feed_dict, options, run_metadata)\u001b[0m\n\u001b[1;32m    765\u001b[0m     \u001b[0;32mtry\u001b[0m\u001b[0;34m:\u001b[0m\u001b[0;34m\u001b[0m\u001b[0m\n\u001b[1;32m    766\u001b[0m       result = self._run(None, fetches, feed_dict, options_ptr,\n\u001b[0;32m--> 767\u001b[0;31m                          run_metadata_ptr)\n\u001b[0m\u001b[1;32m    768\u001b[0m       \u001b[0;32mif\u001b[0m \u001b[0mrun_metadata\u001b[0m\u001b[0;34m:\u001b[0m\u001b[0;34m\u001b[0m\u001b[0m\n\u001b[1;32m    769\u001b[0m         \u001b[0mproto_data\u001b[0m \u001b[0;34m=\u001b[0m \u001b[0mtf_session\u001b[0m\u001b[0;34m.\u001b[0m\u001b[0mTF_GetBuffer\u001b[0m\u001b[0;34m(\u001b[0m\u001b[0mrun_metadata_ptr\u001b[0m\u001b[0;34m)\u001b[0m\u001b[0;34m\u001b[0m\u001b[0m\n",
      "\u001b[0;32m~/anaconda3/lib/python3.6/site-packages/tensorflow/python/client/session.py\u001b[0m in \u001b[0;36m_run\u001b[0;34m(self, handle, fetches, feed_dict, options, run_metadata)\u001b[0m\n\u001b[1;32m    963\u001b[0m     \u001b[0;32mif\u001b[0m \u001b[0mfinal_fetches\u001b[0m \u001b[0;32mor\u001b[0m \u001b[0mfinal_targets\u001b[0m\u001b[0;34m:\u001b[0m\u001b[0;34m\u001b[0m\u001b[0m\n\u001b[1;32m    964\u001b[0m       results = self._do_run(handle, final_targets, final_fetches,\n\u001b[0;32m--> 965\u001b[0;31m                              feed_dict_string, options, run_metadata)\n\u001b[0m\u001b[1;32m    966\u001b[0m     \u001b[0;32melse\u001b[0m\u001b[0;34m:\u001b[0m\u001b[0;34m\u001b[0m\u001b[0m\n\u001b[1;32m    967\u001b[0m       \u001b[0mresults\u001b[0m \u001b[0;34m=\u001b[0m \u001b[0;34m[\u001b[0m\u001b[0;34m]\u001b[0m\u001b[0;34m\u001b[0m\u001b[0m\n",
      "\u001b[0;32m~/anaconda3/lib/python3.6/site-packages/tensorflow/python/client/session.py\u001b[0m in \u001b[0;36m_do_run\u001b[0;34m(self, handle, target_list, fetch_list, feed_dict, options, run_metadata)\u001b[0m\n\u001b[1;32m   1013\u001b[0m     \u001b[0;32mif\u001b[0m \u001b[0mhandle\u001b[0m \u001b[0;32mis\u001b[0m \u001b[0;32mNone\u001b[0m\u001b[0;34m:\u001b[0m\u001b[0;34m\u001b[0m\u001b[0m\n\u001b[1;32m   1014\u001b[0m       return self._do_call(_run_fn, self._session, feed_dict, fetch_list,\n\u001b[0;32m-> 1015\u001b[0;31m                            target_list, options, run_metadata)\n\u001b[0m\u001b[1;32m   1016\u001b[0m     \u001b[0;32melse\u001b[0m\u001b[0;34m:\u001b[0m\u001b[0;34m\u001b[0m\u001b[0m\n\u001b[1;32m   1017\u001b[0m       return self._do_call(_prun_fn, self._session, handle, feed_dict,\n",
      "\u001b[0;32m~/anaconda3/lib/python3.6/site-packages/tensorflow/python/client/session.py\u001b[0m in \u001b[0;36m_do_call\u001b[0;34m(self, fn, *args)\u001b[0m\n\u001b[1;32m   1020\u001b[0m   \u001b[0;32mdef\u001b[0m \u001b[0m_do_call\u001b[0m\u001b[0;34m(\u001b[0m\u001b[0mself\u001b[0m\u001b[0;34m,\u001b[0m \u001b[0mfn\u001b[0m\u001b[0;34m,\u001b[0m \u001b[0;34m*\u001b[0m\u001b[0margs\u001b[0m\u001b[0;34m)\u001b[0m\u001b[0;34m:\u001b[0m\u001b[0;34m\u001b[0m\u001b[0m\n\u001b[1;32m   1021\u001b[0m     \u001b[0;32mtry\u001b[0m\u001b[0;34m:\u001b[0m\u001b[0;34m\u001b[0m\u001b[0m\n\u001b[0;32m-> 1022\u001b[0;31m       \u001b[0;32mreturn\u001b[0m \u001b[0mfn\u001b[0m\u001b[0;34m(\u001b[0m\u001b[0;34m*\u001b[0m\u001b[0margs\u001b[0m\u001b[0;34m)\u001b[0m\u001b[0;34m\u001b[0m\u001b[0m\n\u001b[0m\u001b[1;32m   1023\u001b[0m     \u001b[0;32mexcept\u001b[0m \u001b[0merrors\u001b[0m\u001b[0;34m.\u001b[0m\u001b[0mOpError\u001b[0m \u001b[0;32mas\u001b[0m \u001b[0me\u001b[0m\u001b[0;34m:\u001b[0m\u001b[0;34m\u001b[0m\u001b[0m\n\u001b[1;32m   1024\u001b[0m       \u001b[0mmessage\u001b[0m \u001b[0;34m=\u001b[0m \u001b[0mcompat\u001b[0m\u001b[0;34m.\u001b[0m\u001b[0mas_text\u001b[0m\u001b[0;34m(\u001b[0m\u001b[0me\u001b[0m\u001b[0;34m.\u001b[0m\u001b[0mmessage\u001b[0m\u001b[0;34m)\u001b[0m\u001b[0;34m\u001b[0m\u001b[0m\n",
      "\u001b[0;32m~/anaconda3/lib/python3.6/site-packages/tensorflow/python/client/session.py\u001b[0m in \u001b[0;36m_run_fn\u001b[0;34m(session, feed_dict, fetch_list, target_list, options, run_metadata)\u001b[0m\n\u001b[1;32m   1002\u001b[0m         return tf_session.TF_Run(session, options,\n\u001b[1;32m   1003\u001b[0m                                  \u001b[0mfeed_dict\u001b[0m\u001b[0;34m,\u001b[0m \u001b[0mfetch_list\u001b[0m\u001b[0;34m,\u001b[0m \u001b[0mtarget_list\u001b[0m\u001b[0;34m,\u001b[0m\u001b[0;34m\u001b[0m\u001b[0m\n\u001b[0;32m-> 1004\u001b[0;31m                                  status, run_metadata)\n\u001b[0m\u001b[1;32m   1005\u001b[0m \u001b[0;34m\u001b[0m\u001b[0m\n\u001b[1;32m   1006\u001b[0m     \u001b[0;32mdef\u001b[0m \u001b[0m_prun_fn\u001b[0m\u001b[0;34m(\u001b[0m\u001b[0msession\u001b[0m\u001b[0;34m,\u001b[0m \u001b[0mhandle\u001b[0m\u001b[0;34m,\u001b[0m \u001b[0mfeed_dict\u001b[0m\u001b[0;34m,\u001b[0m \u001b[0mfetch_list\u001b[0m\u001b[0;34m)\u001b[0m\u001b[0;34m:\u001b[0m\u001b[0;34m\u001b[0m\u001b[0m\n",
      "\u001b[0;31mKeyboardInterrupt\u001b[0m: "
     ]
    }
   ],
   "source": [
    "# train on original training set\n",
    "# indices_not_cars = np.where(y_test!=1)[0] # cars labeled with '1'\n",
    "# y_test[indices_not_cars] = 0\n",
    "# classifier.fit(x_train, y_train, epochs=26, batch_size=256, shuffle=True,) # validation_data=(x_test, y_test)\n",
    "classifier.fit(salient_not_cars_train_x, salient_not_cars_train_y, epochs=26, batch_size=256, shuffle=True,) # validation_data=(x_test, y_test)"
   ]
  },
  {
   "cell_type": "code",
   "execution_count": 67,
   "metadata": {
    "scrolled": true
   },
   "outputs": [
    {
     "name": "stdout",
     "output_type": "stream",
     "text": [
      "1000\n",
      "(10000, 1)\n",
      "Epoch 1/1\n",
      "9500/9500 [==============================] - 25s - loss: 0.5794    \n",
      " 9984/10000 [============================>.] - ETA: 0s0.408715263653\n",
      "Epoch 1/1\n",
      "9500/9500 [==============================] - 25s - loss: 0.4386    \n",
      "10000/10000 [==============================] - 10s    \n",
      "0.382160759497\n",
      "Epoch 1/1\n",
      "9500/9500 [==============================] - 27s - loss: 0.3477    \n",
      " 9952/10000 [============================>.] - ETA: 0s0.348455681157\n",
      "Epoch 1/1\n",
      "9500/9500 [==============================] - 28s - loss: 0.3412    \n",
      " 9952/10000 [============================>.] - ETA: 0s0.276396588087\n",
      "Epoch 1/1\n",
      "9500/9500 [==============================] - 27s - loss: 0.3203    \n",
      " 9984/10000 [============================>.] - ETA: 0sEpoch 1/1\n",
      "9500/9500 [==============================] - 27s - loss: 0.2907    \n",
      "10000/10000 [==============================] - 9s     \n",
      "0.263752645302\n",
      "Epoch 1/1\n",
      "9500/9500 [==============================] - 27s - loss: 0.3001    \n",
      "10000/10000 [==============================] - 10s    \n",
      "0.17814319815\n",
      "Epoch 1/1\n",
      "9500/9500 [==============================] - 26s - loss: 0.2586    \n",
      "10000/10000 [==============================] - 9s     \n",
      "Epoch 1/1\n",
      "9500/9500 [==============================] - 26s - loss: 0.2423    \n",
      " 9984/10000 [============================>.] - ETA: 0sEpoch 1/1\n",
      "9500/9500 [==============================] - 27s - loss: 0.2252    \n",
      " 9984/10000 [============================>.] - ETA: 0sEpoch 1/1\n",
      "9500/9500 [==============================] - 27s - loss: 0.2213    \n",
      " 9984/10000 [============================>.] - ETA: 0sEpoch 1/1\n",
      "9500/9500 [==============================] - 25s - loss: 0.2103    \n",
      "10000/10000 [==============================] - 9s     \n",
      "0.170575515768\n",
      "Epoch 1/1\n",
      "9500/9500 [==============================] - 25s - loss: 0.1983    \n",
      " 9984/10000 [============================>.] - ETA: 0sEpoch 1/1\n",
      "9500/9500 [==============================] - 25s - loss: 0.1848    \n",
      "10000/10000 [==============================] - 9s     \n",
      "Epoch 1/1\n",
      "9500/9500 [==============================] - 26s - loss: 0.1602    \n",
      "10000/10000 [==============================] - 9s     \n",
      "0.155242917357\n",
      "Epoch 1/1\n",
      "9500/9500 [==============================] - 25s - loss: 0.1780    \n",
      "10000/10000 [==============================] - 9s     \n",
      "Epoch 1/1\n",
      "9500/9500 [==============================] - 25s - loss: 0.1533    \n",
      "10000/10000 [==============================] - 9s     \n",
      "Epoch 1/1\n",
      "9500/9500 [==============================] - 25s - loss: 0.1282    \n",
      "10000/10000 [==============================] - 9s     \n",
      "Epoch 1/1\n",
      "9500/9500 [==============================] - 25s - loss: 0.1181    \n",
      "10000/10000 [==============================] - 9s     \n",
      "Epoch 1/1\n",
      "9500/9500 [==============================] - 25s - loss: 0.1255    \n",
      "10000/10000 [==============================] - 9s     \n",
      "Epoch 1/1\n",
      "9500/9500 [==============================] - 26s - loss: 0.1032    \n",
      " 9984/10000 [============================>.] - ETA: 0sEpoch 1/1\n",
      "9500/9500 [==============================] - 26s - loss: 0.0867    \n",
      "10000/10000 [==============================] - 10s    \n",
      "Epoch 1/1\n",
      "9500/9500 [==============================] - 26s - loss: 0.0788    \n",
      "10000/10000 [==============================] - 9s     \n",
      "Epoch 1/1\n",
      "9500/9500 [==============================] - 26s - loss: 0.0764    \n",
      "10000/10000 [==============================] - 10s    \n",
      "Epoch 1/1\n",
      "9500/9500 [==============================] - 27s - loss: 0.0580    \n",
      "10000/10000 [==============================] - 10s    \n",
      "Epoch 1/1\n",
      "9500/9500 [==============================] - 26s - loss: 0.0558    \n",
      "10000/10000 [==============================] - 9s     \n",
      "Epoch 1/1\n",
      "9500/9500 [==============================] - 25s - loss: 0.0538    \n",
      "10000/10000 [==============================] - 9s     \n",
      "Epoch 1/1\n",
      "9500/9500 [==============================] - 25s - loss: 0.0440    \n",
      "10000/10000 [==============================] - 9s     \n",
      "Epoch 1/1\n",
      "9500/9500 [==============================] - 25s - loss: 0.0422    \n",
      "10000/10000 [==============================] - 9s     \n",
      "Epoch 1/1\n",
      "9500/9500 [==============================] - 25s - loss: 0.0449    \n",
      "10000/10000 [==============================] - 9s     \n",
      "Epoch 1/1\n",
      "9500/9500 [==============================] - 25s - loss: 0.0387    \n",
      "10000/10000 [==============================] - 9s     \n",
      "Epoch 1/1\n",
      "9500/9500 [==============================] - 25s - loss: 0.0350    \n",
      "10000/10000 [==============================] - 9s     \n",
      "Epoch 1/1\n",
      "9500/9500 [==============================] - 25s - loss: 0.0576    \n",
      "10000/10000 [==============================] - 9s     \n",
      "Epoch 1/1\n",
      "9500/9500 [==============================] - 26s - loss: 0.0549    \n",
      "10000/10000 [==============================] - 9s     \n",
      "Epoch 1/1\n",
      "9500/9500 [==============================] - 25s - loss: 0.0299    \n",
      "10000/10000 [==============================] - 9s     \n"
     ]
    }
   ],
   "source": [
    "###\n",
    "### Generate Best Conv Classifier on original x_train and y_train\n",
    "###\n",
    "\n",
    "indices_not_cars = np.where(y_test!=1)[0] # cars labeled with '1'\n",
    "y_test[indices_not_cars] = 0\n",
    "print(np.sum(y_test))\n",
    "print(y_test.shape)\n",
    "\n",
    "nb_epochs = 35\n",
    "best_loss = 100\n",
    "for i in range(nb_epochs):\n",
    "    classifier.fit(x_train, y_train, batch_size=256, shuffle=True)\n",
    "    val_loss = classifier.evaluate(x_test, y_test)\n",
    "    if val_loss < best_loss:\n",
    "        best_loss = val_loss\n",
    "        print(best_loss)\n",
    "        classifier.save('best_vanilla_conv_model_val_accuracy')"
   ]
  },
  {
   "cell_type": "code",
   "execution_count": 57,
   "metadata": {},
   "outputs": [
    {
     "name": "stdout",
     "output_type": "stream",
     "text": [
      " 9952/10000 [============================>.] - ETA: 0s"
     ]
    },
    {
     "data": {
      "text/plain": [
       "0.32151479103565217"
      ]
     },
     "execution_count": 57,
     "metadata": {},
     "output_type": "execute_result"
    }
   ],
   "source": [
    "classifier.evaluate(x_test, y_test)"
   ]
  },
  {
   "cell_type": "code",
   "execution_count": 12,
   "metadata": {},
   "outputs": [
    {
     "data": {
      "image/png": "[encoded data removed]",
      "text/plain": [
       "<matplotlib.figure.Figure at 0x333efe9b0>"
      ]
     },
     "metadata": {},
     "output_type": "display_data"
    }
   ],
   "source": [
    "classifier.history.history.keys()\n",
    "plt.plot(classifier.history.history['loss'])\n",
    "plt.plot(classifier.history.history['val_loss'])\n",
    "# plt.title('model accuracy')\n",
    "plt.ylabel('loss')\n",
    "plt.xlabel('epoch')\n",
    "# plt.savefig('/Users/vwr/car autoencoder/car_autoencoder/Vanilla CNN Loss Learning Curve.jpeg')\n",
    "# plt.legend(['train', 'test'], loc='upper left')\n",
    "plt.show()\n"
   ]
  },
  {
   "cell_type": "code",
   "execution_count": 6,
   "metadata": {},
   "outputs": [],
   "source": [
    "def compute_igs_at_epochs(data,\n",
    "                          model, \n",
    "                          experiment_no,\n",
    "                          experiment_dir='/Users/vwr/car autoencoder/car_autoencoder/Experiments/',\n",
    "                          test_idx=[82, 104, 105, 193, 204], \n",
    "                          ig_epochs=[1, 2, 5, 10, 15, 25]):\n",
    "    x_train, y_train, x_test, y_test = data\n",
    "    loss = []\n",
    "    val_loss = []\n",
    "    for ep in range(1, 30):\n",
    "        model.fit(x_train, y_train, epochs=1, batch_size=256, shuffle=True, validation_data=(x_test, y_test))\n",
    "        loss.append(model.history.history['loss'][0])\n",
    "        loss.append(model.history.history['val_loss'][0])\n",
    "        if ep in ig_epochs:\n",
    "            ig = integrated_gradients(classifier)\n",
    "            for idx in test_idx:\n",
    "                img = x_test[idx]\n",
    "                exp = process_exp(ig.explain(img))\n",
    "                exp_white = process_exp(ig.explain(img, reference=ref[0]))\n",
    "                vis = img*exp\n",
    "                vis_white = img*exp_white\n",
    "                vis_combined = vis + vis_white\n",
    "                \n",
    "                img_folder = experiment_dir + str(experiment_no) + '/' + str(idx)\n",
    "                save_image(img = vis,\n",
    "                           img_name = 'ig_' + str(idx) + 'epoch_' + str(ep) + '_black_baseline.jpeg',\n",
    "                           img_dir = img_folder)\n",
    "                save_image(img = vis_white,\n",
    "                           img_name = 'ig_' + str(idx) + 'epoch_' + str(ep) + '_white_baseline.jpeg',\n",
    "                           img_dir = img_folder)\n",
    "                save_image(img = vis_combined,\n",
    "                           img_name = 'ig_' + str(idx) + 'epoch_' + str(ep) + '_combined_baseline.jpeg',\n",
    "                           img_dir = img_folder + '/combined')\n",
    "\n",
    "\n",
    "            \n",
    "indices_not_cars = np.where(y_test!=1)[0] # cars labeled with '1'\n",
    "y_test[indices_not_cars] = 0\n",
    "\n",
    "# compute_igs_at_epochs(data = (x_train, y_train, x_test, y_test),\n",
    "#                       classifier, \n",
    "#                       experiment_no = 8)\n",
    "\n",
    "\n",
    "\n",
    "\n",
    "# plt.plot(loss)\n",
    "# plt.plot(val_loss)\n",
    "# # plt.title('model accuracy')\n",
    "# plt.ylabel('loss')\n",
    "# plt.xlabel('epoch')\n",
    "# # plt.savefig('/Users/vwr/car autoencoder/car_autoencoder/Experiments/7/Vanilla CNN Loss Learning Curve.jpeg')\n",
    "# # plt.legend(['train', 'test'], loc='upper left')\n",
    "# plt.show()\n",
    "    "
   ]
  },
  {
   "cell_type": "code",
   "execution_count": null,
   "metadata": {},
   "outputs": [],
   "source": []
  },
  {
   "cell_type": "code",
   "execution_count": null,
   "metadata": {},
   "outputs": [],
   "source": [
    "# train on salient-blacked-out images only\n",
    "classifier.fit(salient_not_cars_train_x, salient_not_cars_train_y, \n",
    "               epochs=50, batch_size=256, shuffle=True)"
   ]
  },
  {
   "cell_type": "code",
   "execution_count": null,
   "metadata": {},
   "outputs": [],
   "source": [
    "predictions = classifier.predict(x_test)\n",
    "predictions[predictions < 0.5] = 0\n",
    "predictions[predictions >= 0.5] = 1\n",
    "print(predictions.shape)\n",
    "print(np.sum(predictions))\n",
    "print(y_test.shape)"
   ]
  },
  {
   "cell_type": "code",
   "execution_count": null,
   "metadata": {},
   "outputs": [],
   "source": [
    "classifier.save(\"./saved_models/824_100_epochs_fragmented_saliency_blots_very_good_separation\")"
   ]
  },
  {
   "cell_type": "code",
   "execution_count": 74,
   "metadata": {
    "collapsed": true
   },
   "outputs": [],
   "source": [
    "# classifier = load_model(\"./best_vanilla_conv_model_val_accuracy\")\n",
    "# Vanilla CNN\n",
    "classifier1 = load_model(\"./saved_models/852_100_epochs_car_classifier_from_scratch\")\n",
    "# classifier2 = load_model(\"./saved_models/761_car_classifier_first_2_frozen\")"
   ]
  },
  {
   "cell_type": "markdown",
   "metadata": {},
   "source": [
    "#### Integrated Gradients"
   ]
  },
  {
   "cell_type": "code",
   "execution_count": 141,
   "metadata": {},
   "outputs": [
    {
     "name": "stdout",
     "output_type": "stream",
     "text": [
      "Evaluated output channel (0-based index): All\n",
      "Building gradient functions\n",
      "Progress: 100.0%\n",
      "Done.\n",
      "Evaluated output channel (0-based index): All\n",
      "Building gradient functions\n",
      "Progress: 100.0%\n",
      "Done.\n",
      "[[ 0.99867493]]\n"
     ]
    },
    {
     "data": {
      "image/png": "[encoded data removed]",
      "text/plain": [
       "<matplotlib.figure.Figure at 0x3386fa978>"
      ]
     },
     "metadata": {},
     "output_type": "display_data"
    },
    {
     "data": {
      "image/png": "[encoded data removed]",
      "text/plain": [
       "<matplotlib.figure.Figure at 0x335276ba8>"
      ]
     },
     "metadata": {},
     "output_type": "display_data"
    }
   ],
   "source": [
    "# 6, 37, 1020, 109, 123, 66, 81, 82, 104, 105, 114, 122, 134, 161, 193, 204, 231\n",
    "# wheels!\n",
    "# 6, 1020, 66, 81, 82, 105, 114, 122, 134, 161, 193, 204\n",
    "# misclassified: 57, 162, 339\n",
    "ig = integrated_gradients(classifier)\n",
    "ig2 = integrated_gradients(classifier1)\n",
    "ref = np.ones((32, 32, 3))\n",
    "ref = np.expand_dims(ref, axis=0)\n",
    "car_idx = 231\n",
    "img = x_test[car_idx]\n",
    "exp = ig.explain(img) # reference=ref[0]'\n",
    "exp_white = ig.explain(img, reference=ref[0])\n",
    "exp2 = ig2.explain(img, reference=ref[0])\n",
    "\n",
    "def process_exp(exp):\n",
    "    exp = gray_scale(exp)\n",
    "    exp = abs(exp)\n",
    "    exp = np.clip(exp/np.percentile(exp, 99.5), 0,1)  \n",
    "    return exp\n",
    "\n",
    "\n",
    "exp = process_exp(exp)\n",
    "exp_white = process_exp(exp_white)\n",
    "exp2 = process_exp(exp2)\n",
    "vis = img*exp_white + img*exp\n",
    "vis2 = img*exp2\n",
    "\n",
    "print(classifier.predict(img.reshape(1, IMG_SIZE, IMG_SIZE, 3)))\n",
    "\n",
    "save_image(img = img*exp, img_name = str(car_idx) + '_black_baseline.jpeg',\n",
    "                           img_dir = '/Users/vwr/car autoencoder/car_autoencoder/Experiments/8 - Saliency works (IG pics)')\n",
    "\n",
    "save_image(img = img*exp_white, img_name = str(car_idx) + '_white_baseline.jpeg',\n",
    "                           img_dir = '/Users/vwr/car autoencoder/car_autoencoder/Experiments/8 - Saliency works (IG pics)')\n",
    "\n",
    "plot_side_by_side(img, vis, titles=[\"Original\", \"Explanation\"])\n",
    "plt.imshow(vis2)\n",
    "plt.show()\n",
    "### BLACK PIXEL experiment for IG with standard black image baseline\n",
    "### USE WHITE AND BLACK BASELINES to get pixels with higher attribution (lighter and darker)\n",
    "\n",
    "# rescaled1 = (255.0 / vis.max() * (vis - vis.min())).astype(np.uint8)\n",
    "# rescaled2 = (255.0 / vis2.max() * (vis2 - vis2.min())).astype(np.uint8)\n",
    "# im1 = Image.fromarray(rescaled1)\n",
    "# im2 = Image.fromarray(rescaled2)\n",
    "# img_name1 = 'ig_193_vanilla_cnn_8_epoch' + '.jpeg'  \n",
    "# img_name2 = 'ig_193_vanilla_cnn_trained' + '.jpeg' \n",
    "# im1.save(os.path.join('/Users/vwr/car autoencoder/car_autoencoder/Experiments/3/', img_name1))\n",
    "# im2.save(os.path.join('/Users/vwr/car autoencoder/car_autoencoder/Experiments/3/', img_name2))"
   ]
  },
  {
   "cell_type": "markdown",
   "metadata": {},
   "source": [
    "### Generate fragmented images from most salient pixels and add to training set"
   ]
  },
  {
   "cell_type": "code",
   "execution_count": 77,
   "metadata": {},
   "outputs": [
    {
     "name": "stdout",
     "output_type": "stream",
     "text": [
      "4112\n",
      "4177.0\n"
     ]
    }
   ],
   "source": [
    "# Vanilla CNN\n",
    "# classifier = load_model(\"./saved_models/852_100_epochs_car_classifier_from_scratch\")\n",
    "cars_train_i = []\n",
    "train_predictions = classifier.predict(x_train)\n",
    "train_predictions[train_predictions < 0.5] = 0\n",
    "train_predictions[train_predictions >= 0.5] = 1\n",
    "for i in range(train_predictions.shape[0]):\n",
    "    if train_predictions[i] == 1 and y_train[i] == 1:\n",
    "        cars_train_i.append(i)\n",
    "        \n",
    "print(len(cars_train_i))\n",
    "print(np.sum(train_predictions))"
   ]
  },
  {
   "cell_type": "code",
   "execution_count": null,
   "metadata": {},
   "outputs": [],
   "source": [
    "print(classifier.predict(x_train).shape)"
   ]
  },
  {
   "cell_type": "code",
   "execution_count": 72,
   "metadata": {},
   "outputs": [],
   "source": [
    "classifier = load_model(\"./best_vanilla_conv_model_val_accuracy\")"
   ]
  },
  {
   "cell_type": "code",
   "execution_count": null,
   "metadata": {
    "collapsed": true
   },
   "outputs": [],
   "source": [
    "plt.imshow(x_train[486])\n",
    "plt.show()"
   ]
  },
  {
   "cell_type": "code",
   "execution_count": 79,
   "metadata": {
    "scrolled": true
   },
   "outputs": [
    {
     "name": "stdout",
     "output_type": "stream",
     "text": [
      "Evaluated output channel (0-based index): All\n",
      "Building gradient functions\n",
      "Progress: 100.0%\n",
      "Done.\n",
      "[[ 0.81409878]]\n",
      "[[ 0.998348]]\n",
      "[[ 0.87944037]]\n",
      "[[ 0.30361179]]\n",
      "[[ 0.17026654]]\n",
      "[[ 0.52807105]]\n",
      "[[ 0.93443668]]\n",
      "[[ 0.94398379]]\n",
      "[[ 0.93946564]]\n",
      "[[ 0.38493705]]\n",
      "[[ 0.6189447]]\n",
      "[[ 0.12010291]]\n",
      "[[ 0.01472156]]\n",
      "[[ 0.94990963]]\n",
      "[[ 0.91966152]]\n",
      "[[ 0.40232089]]\n",
      "[[ 0.54619741]]\n",
      "[[ 0.83693767]]\n",
      "[[ 0.59885454]]\n",
      "[[ 0.90462381]]\n",
      "[[ 0.53885204]]\n",
      "[[ 0.99581003]]\n",
      "[[ 0.96460861]]\n",
      "[[ 0.84946924]]\n",
      "[[ 0.67156917]]\n",
      "[[ 0.25603712]]\n",
      "[[ 0.59073085]]\n",
      "[[ 0.87106198]]\n",
      "[[ 0.76662874]]\n",
      "[[ 0.98785955]]\n",
      "[[ 0.15778022]]\n",
      "[[ 0.99576795]]\n",
      "[[ 0.94079286]]\n",
      "[[ 0.97931665]]\n",
      "[[ 0.08495232]]\n",
      "[[ 0.76071411]]\n",
      "[[ 0.83614868]]\n",
      "[[ 0.73034739]]\n",
      "[[ 0.93673879]]\n",
      "[[ 0.82386094]]\n",
      "[[ 0.90989965]]\n",
      "[[ 0.14372933]]\n",
      "[[ 0.69726449]]\n",
      "[[ 0.58630961]]\n",
      "[[ 0.7055096]]\n",
      "[[ 0.55913883]]\n",
      "[[ 0.96922529]]\n",
      "[[ 0.09651811]]\n",
      "[[ 0.97973835]]\n",
      "[[ 0.82923651]]\n",
      "[[ 0.97407621]]\n",
      "[[ 0.58139968]]\n",
      "[[ 0.39909199]]\n",
      "[[ 0.52199709]]\n",
      "[[ 0.38676703]]\n",
      "[[ 0.95027786]]\n",
      "[[ 0.50402468]]\n",
      "[[ 0.00764482]]\n",
      "[[ 0.99578202]]\n",
      "[[ 0.76039773]]\n",
      "[[ 0.18265069]]\n",
      "[[ 0.84125829]]\n",
      "[[ 0.98677075]]\n",
      "[[ 0.9756276]]\n",
      "[[ 0.26454729]]\n",
      "[[ 0.00864985]]\n",
      "[[ 0.65249854]]\n",
      "[[ 0.85242236]]\n",
      "[[ 0.13791533]]\n",
      "[[ 0.92659169]]\n",
      "[[ 0.91639757]]\n",
      "[[ 0.60257775]]\n",
      "[[ 0.68332827]]\n",
      "[[ 0.51881635]]\n",
      "[[ 0.77604264]]\n",
      "[[ 0.14713413]]\n",
      "[[ 0.85934043]]\n",
      "[[ 0.95339108]]\n",
      "[[ 0.74583805]]\n",
      "[[ 0.46597683]]\n",
      "[[ 0.90382248]]\n",
      "[[ 0.9906742]]\n",
      "[[ 0.7936008]]\n"
     ]
    }
   ],
   "source": [
    "ig = integrated_gradients(classifier) # using vanilla CNN trained for 200 epochs\n",
    "k = 0\n",
    "for ind in cars_train_i:\n",
    "    img = np.copy(x_train[ind])\n",
    "    exp = ig.explain(img)\n",
    "    exp = gray_scale(exp)\n",
    "    exp = abs(exp)  \n",
    "    exp = np.clip(exp/np.percentile(exp, 99.99), 0,1)\n",
    "    \n",
    "    threshold = np.percentile(exp, 95)\n",
    "    count = 0\n",
    "    for i in range(exp.shape[0]):\n",
    "        for j in range(exp.shape[1]):\n",
    "            if np.any(exp[i][j] > threshold, axis=0):\n",
    "                count += 1\n",
    "                img[i][j][0] = 0\n",
    "                img[i][j][1] = 0\n",
    "                img[i][j][2] = 0\n",
    "    \n",
    "    rescaled = (255.0 / img.max() * (img - img.min())).astype(np.uint8)\n",
    "    if k % 50 == 0:\n",
    "        print(classifier.predict(img.reshape(1, IMG_SIZE, IMG_SIZE, 3)))\n",
    "    im = Image.fromarray(rescaled)\n",
    "    img_name = str(ind) + '_car.jpeg'  \n",
    "    im.save(os.path.join('/Users/vwr/fragmented_saliency_cars_top_5%/', img_name))\n",
    "    k += 1\n",
    "#     print(classifier.predict(img.reshape(1, IMG_SIZE, IMG_SIZE, 3)))"
   ]
  },
  {
   "cell_type": "markdown",
   "metadata": {},
   "source": [
    "### Generate fragmented saliency for non-cars"
   ]
  },
  {
   "cell_type": "code",
   "execution_count": 15,
   "metadata": {},
   "outputs": [
    {
     "name": "stdout",
     "output_type": "stream",
     "text": [
      "Evaluated output channel (0-based index): All\n",
      "Building gradient functions\n",
      "Progress: 100.0%\n",
      "Done.\n",
      "[[ 0.68145275]]\n",
      "[[ 0.73879391]]\n",
      "[[ 0.00146403]]\n",
      "[[ 0.38373333]]\n",
      "[[ 0.99034685]]\n",
      "[[ 0.49132076]]\n",
      "[[ 0.01553091]]\n",
      "[[ 0.97045362]]\n",
      "[[ 0.91572422]]\n",
      "[[ 0.85539645]]\n",
      "[[ 0.17884463]]\n",
      "[[ 0.94366604]]\n",
      "[[ 0.75715172]]\n",
      "[[ 0.84017628]]\n",
      "[[ 0.56193942]]\n",
      "[[ 0.23408557]]\n",
      "[[ 0.90728486]]\n",
      "[[ 0.20637766]]\n",
      "[[ 0.24835031]]\n",
      "[[ 0.80201548]]\n",
      "[[ 0.01659775]]\n",
      "[[ 0.98315698]]\n",
      "[[ 0.23622471]]\n",
      "[[ 0.06677269]]\n",
      "[[ 0.24084057]]\n",
      "[[ 0.90947378]]\n",
      "[[ 0.77435207]]\n",
      "[[ 0.90130287]]\n",
      "[[ 0.25446165]]\n",
      "[[ 0.21045643]]\n",
      "[[ 0.68271679]]\n",
      "[[ 0.21215783]]\n",
      "[[ 0.79594058]]\n",
      "[[ 0.94575238]]\n",
      "[[ 0.02614246]]\n",
      "[[ 0.99496633]]\n",
      "[[ 0.11482271]]\n",
      "[[ 0.08944497]]\n",
      "[[ 0.4258]]\n",
      "[[ 0.6975345]]\n",
      "[[ 0.99130803]]\n",
      "[[ 0.15815166]]\n",
      "[[ 0.87683523]]\n",
      "[[ 0.03965757]]\n",
      "[[ 0.13686436]]\n",
      "[[ 0.27353522]]\n",
      "[[ 0.48967108]]\n",
      "[[ 0.4350138]]\n",
      "[[ 0.65586066]]\n",
      "[[ 0.94461155]]\n",
      "[[ 0.53883547]]\n",
      "[[ 0.95872587]]\n",
      "[[ 0.72292757]]\n",
      "[[ 0.5751223]]\n",
      "[[ 0.9077574]]\n",
      "[[ 0.4829964]]\n",
      "[[ 0.88916808]]\n",
      "[[ 0.03672297]]\n",
      "[[ 0.36527833]]\n",
      "[[ 0.00471018]]\n",
      "[[ 0.01422876]]\n",
      "[[ 0.73266494]]\n",
      "[[ 0.85603529]]\n",
      "[[ 0.02016716]]\n",
      "[[ 0.10286249]]\n",
      "[[ 0.179648]]\n",
      "[[ 0.1334963]]\n",
      "[[ 0.39737946]]\n",
      "[[ 0.99256778]]\n",
      "[[ 0.92695856]]\n",
      "[[ 0.08466561]]\n",
      "[[ 0.77008736]]\n",
      "[[ 0.89907897]]\n",
      "[[ 0.38612074]]\n",
      "[[ 0.73450702]]\n",
      "[[ 0.00862935]]\n",
      "[[ 0.14994423]]\n",
      "[[ 0.17255473]]\n",
      "[[ 0.08873209]]\n",
      "[[ 0.79686213]]\n",
      "[[ 0.11535109]]\n",
      "[[ 0.77844095]]\n",
      "[[ 0.1519382]]\n",
      "[[ 0.05613361]]\n",
      "[[ 0.26677692]]\n",
      "[[ 0.65847963]]\n",
      "[[ 0.02508774]]\n",
      "[[ 0.99282962]]\n",
      "[[ 0.3517541]]\n",
      "[[ 0.39727879]]\n"
     ]
    }
   ],
   "source": [
    "ig = integrated_gradients(classifier) # using vanilla CNN trained for 200 epochs\n",
    "k = 0\n",
    "for ind in range(not_cars_x_train.shape[0]):\n",
    "    img = np.copy(not_cars_x_train[ind])\n",
    "    exp = ig.explain(img)\n",
    "    exp = gray_scale(exp)\n",
    "    exp = abs(exp)  \n",
    "    exp = np.clip(exp/np.percentile(exp, 99.99), 0,1)\n",
    "    \n",
    "    threshold = np.percentile(exp, 95)\n",
    "    count = 0\n",
    "    for i in range(exp.shape[0]):\n",
    "        for j in range(exp.shape[1]):\n",
    "            if np.any(exp[i][j] > threshold, axis=0):\n",
    "                count += 1\n",
    "                img[i][j][0] = 0\n",
    "                img[i][j][1] = 0\n",
    "                img[i][j][2] = 0\n",
    "    \n",
    "    rescaled = (255.0 / img.max() * (img - img.min())).astype(np.uint8)\n",
    "    if k % 50 == 0:\n",
    "        print(classifier.predict(img.reshape(1, IMG_SIZE, IMG_SIZE, 3)))\n",
    "    im = Image.fromarray(rescaled)\n",
    "    img_name = str(ind) + '_car.jpeg'  \n",
    "    im.save(os.path.join('/Users/vwr/fragmented_saliency_non_cars_top_5%/', img_name))\n",
    "    k += 1\n",
    "#     print(classifier.predict(img.reshape(1, IMG_SIZE, IMG_SIZE, 3)))"
   ]
  },
  {
   "cell_type": "code",
   "execution_count": null,
   "metadata": {},
   "outputs": [],
   "source": [
    "predictions = classifier2.predict(x_test)\n",
    "predictions[predictions < 0.5] = 0\n",
    "predictions[predictions >= 0.5] = 1\n",
    "print(np.sum(predictions))\n",
    "print(predictions.shape)"
   ]
  },
  {
   "cell_type": "markdown",
   "metadata": {},
   "source": [
    "### Visualizing Conv Filters"
   ]
  },
  {
   "cell_type": "code",
   "execution_count": null,
   "metadata": {
    "collapsed": true
   },
   "outputs": [],
   "source": [
    "l2 = classifier.layers[2]\n",
    "l3 = classifier.layers[3]\n",
    "l4 = classifier.layers[4]\n",
    "l5 = classifier.layers[5]\n",
    "l6 = classifier.layers[6]\n",
    "l7 = classifier.layers[7]\n",
    "l8 = classifier.layers[8]\n",
    "l9 = classifier.layers[9]\n",
    "l10 = classifier.layers[10]\n",
    "l12 = classifier.layers[12]\n",
    "l14 = classifier.layers[14]\n",
    "\n",
    "x = l2(classifier.input)\n",
    "x = l3(x)\n",
    "x = l4(x)\n",
    "x = l5(x)\n",
    "x = l6(x)\n",
    "x = l7(x)\n",
    "x = l8(x)\n",
    "x = l9(x)\n",
    "x = l10(x)\n",
    "x = l12(x)\n",
    "output = l14(x)\n",
    "\n",
    "classifier = Model(classifier.input, output)"
   ]
  },
  {
   "cell_type": "code",
   "execution_count": null,
   "metadata": {},
   "outputs": [],
   "source": [
    "# Visualizing Conv Filters\n",
    "from keras import backend as K\n",
    "\n",
    "def deprocess_image(x):\n",
    "    # normalize tensor: center on 0., ensure std is 0.1\n",
    "    x -= x.mean()\n",
    "    x /= (x.std() + 1e-5)\n",
    "    x *= 0.1\n",
    "\n",
    "    # clip to [0, 1]\n",
    "    x += 0.5\n",
    "    x = np.clip(x, 0, 1)\n",
    "\n",
    "    # convert to RGB array\n",
    "    x *= 255\n",
    "#     x = x.transpose((0, 1, 2))\n",
    "    x = np.clip(x, 0, 255).astype('uint8')\n",
    "    return x\n",
    "\n",
    "layer_dict = dict([(layer.name, layer) for layer in classifier.layers])\n",
    "layer_index = 7\n",
    "input_img = classifier.input\n",
    "\n",
    "w=10\n",
    "h=10\n",
    "fig=plt.figure(figsize=(8, 8))\n",
    "columns = 4\n",
    "rows = 5\n",
    "for i in range(1, columns*rows +1):\n",
    "    \n",
    "    # build a loss function that maximizes the activation\n",
    "    # of the nth filter of the layer considered\n",
    "    layer_output = classifier.layers[layer_index].get_output_at(1)\n",
    "    \n",
    "    loss = K.mean(layer_output[:, :, :, i])\n",
    "    \n",
    "    # compute the gradient of the loss wrt the input picture\n",
    "    grads = K.gradients(loss, input_img)[0]\n",
    "\n",
    "    # normalization trick: we normalize the gradient\n",
    "    grads /= (K.sqrt(K.mean(K.square(grads))) + 1e-5)\n",
    "\n",
    "    # this function returns the loss and grads given the input picture\n",
    "    iterate = K.function([input_img], [loss, grads])\n",
    "    \n",
    "    # we start from a gray image with some noise\n",
    "    input_img_data = (np.random.random((1, IMG_SIZE, IMG_SIZE, 3)) - 0.5) * 20 + 128\n",
    "#     input_img_data = np.copy(x_test[82]).reshape(1, IMG_SIZE, IMG_SIZE, 3)\n",
    "\n",
    "    # run gradient ascent for 20 steps\n",
    "    for j in range(5):\n",
    "        loss_value, grads_value = iterate([input_img_data])\n",
    "        input_img_data += grads_value * 0.1\n",
    "        input_img_data = 0.95 * input_img_data\n",
    "        input_img_data = cv2.GaussianBlur(input_img_data[0, :], (1, 1), 0)\n",
    "        input_img_data = input_img_data.reshape(1, 32, 32, 3)\n",
    "    \n",
    "    img = input_img_data[0]\n",
    "    img = deprocess_image(img)\n",
    "    fig.add_subplot(rows, columns, i)   \n",
    "    plt.imshow(img)\n",
    "plt.show()"
   ]
  },
  {
   "cell_type": "code",
   "execution_count": null,
   "metadata": {},
   "outputs": [],
   "source": [
    "layer_dict = dict([(layer.name, layer) for layer in classifier.layers])\n",
    "layer_index = 7\n",
    "input_img = classifier.input\n",
    "\n",
    "layer_output = classifier.layers[layer_index].get_output_at(1)\n",
    "mean_activation_i = K.mean(layer_output[:, :, :, 36])\n",
    "iterate = K.function([input_img], [mean_activation_i])\n",
    "\n",
    "(cars_x_train, _, _, _) = select_car_images()\n",
    "mean_values = []\n",
    "for car in cars_x_train:\n",
    "    mean_activ_value = iterate([car.reshape(1, IMG_SIZE, IMG_SIZE, 3)])\n",
    "    mean_values.append(mean_activ_value)"
   ]
  },
  {
   "cell_type": "code",
   "execution_count": null,
   "metadata": {},
   "outputs": [],
   "source": [
    "mean_values = np.array(mean_values)\n",
    "def largest_indices(ary, n):\n",
    "    \"\"\"Returns the n largest indices from a numpy array.\"\"\"\n",
    "    flat = ary.flatten()\n",
    "    indices = np.argpartition(flat, -n)[-n:]\n",
    "    indices = indices[np.argsort(-flat[indices])]\n",
    "    return np.unravel_index(indices, ary.shape)\n",
    "\n",
    "# 12 is diagonal right\n",
    "boom = largest_indices(mean_values, 5)\n",
    "print(mean_values[boom])\n",
    "print(boom)\n",
    "plt.imshow(x_test[1193])\n",
    "plt.show()"
   ]
  },
  {
   "cell_type": "markdown",
   "metadata": {},
   "source": [
    "### Test Set Breakdown + misclassifications"
   ]
  },
  {
   "cell_type": "code",
   "execution_count": 106,
   "metadata": {},
   "outputs": [
    {
     "name": "stdout",
     "output_type": "stream",
     "text": [
      "What this classifier classifies as cars: \n",
      " {'plane': 62, 'car': 879, 'bird': 16, 'cat': 19, 'deer': 12, 'dog': 6, 'frog': 19, 'horse': 10, 'ship': 159, 'truck': 299}\n",
      "Total population of test set: \n",
      " {'plane': 1000, 'car': 1000, 'bird': 1000, 'cat': 1000, 'deer': 1000, 'dog': 1000, 'frog': 1000, 'horse': 1000, 'ship': 1000, 'truck': 1000}\n"
     ]
    }
   ],
   "source": [
    "predictions = classifier.predict(x_test)\n",
    "predictions[predictions < 0.5] = 0\n",
    "predictions[predictions >= 0.5] = 1\n",
    "\n",
    "category_of = ['plane', 'car', 'bird', 'cat', 'deer', 'dog', 'frog', 'horse', 'ship', 'truck']\n",
    "table = { 'plane': 0,'car': 0, 'bird': 0, 'cat': 0, 'deer': 0, 'dog': 0, 'frog': 0, 'horse': 0, 'ship': 0, 'truck': 0}\n",
    "total_counts = { 'plane': 0,'car': 0, 'bird': 0, 'cat': 0, 'deer': 0, 'dog': 0, 'frog': 0, 'horse': 0, 'ship': 0, 'truck': 0}\n",
    "\n",
    "misclassified_as_cars = []\n",
    "cars_i = []\n",
    "cars_misclassified_as_not = []\n",
    "\n",
    "for i in range(predictions.shape[0]):\n",
    "    c = category_of[y_test[i][0]]\n",
    "    total_counts[c] += 1\n",
    "    if predictions[i] == 1:\n",
    "        if c != 'car':\n",
    "            misclassified_as_cars.append(i)\n",
    "        else:\n",
    "            cars_i.append(i)\n",
    "        table[c] += 1\n",
    "    if predictions[i] != 1 and c == 'car':\n",
    "            cars_misclassified_as_not.append(i)\n",
    "        \n",
    "print(\"What this classifier classifies as cars: \\n\", table)\n",
    "print(\"Total population of test set: \\n\", total_counts)"
   ]
  },
  {
   "cell_type": "code",
   "execution_count": 44,
   "metadata": {},
   "outputs": [
    {
     "name": "stdout",
     "output_type": "stream",
     "text": [
      "4498.0\n",
      "4498\n",
      "4112\n",
      "(8612, 1)\n"
     ]
    }
   ],
   "source": [
    "train_predictions = classifier.predict(salient_not_cars_train_x)\n",
    "train_predictions[train_predictions < 0.5] = 0\n",
    "train_predictions[train_predictions >= 0.5] = 1\n",
    "print(np.sum(train_predictions))\n",
    "print(len(np.where(train_predictions == 1)[0]))\n",
    "print(len(np.where(salient_not_cars_train_y == 1)[0]))\n",
    "print(train_predictions.shape)"
   ]
  },
  {
   "cell_type": "markdown",
   "metadata": {},
   "source": [
    "After epoch 1:  \n",
    "{'plane': 396, 'car': 886, 'bird': 169, 'cat': 250, 'deer': 138, 'dog': 186, 'frog': 176, 'horse': 176, 'ship': 580, 'truck': 807}    \n",
    "After epoch 2:  \n",
    "{'plane': 63, 'car': 673, 'bird': 36, 'cat': 29, 'deer': 11, 'dog': 12, 'frog': 13, 'horse': 16, 'ship': 146, 'truck': 349}   \n",
    "After epoch 3:   \n",
    "{'plane': 41, 'car': 594, 'bird': 12, 'cat': 6, 'deer': 5, 'dog': 4, 'frog': 2, 'horse': 4, 'ship': 82, 'truck': 293}   \n",
    "After epoch 5:  \n",
    "{'plane': 90, 'car': 828, 'bird': 43, 'cat': 26, 'deer': 15, 'dog': 21, 'frog': 18, 'horse': 30, 'ship': 165, 'truck': 491}    \n",
    "After epoch 10:  \n",
    "{'plane': 72, 'car': 807, 'bird': 20, 'cat': 18, 'deer': 15, 'dog': 9, 'frog': 13, 'horse': 12, 'ship': 111, 'truck': 363}  \n",
    "After epoch 15:  \n",
    " {'plane': 66, 'car': 821, 'bird': 21, 'cat': 32, 'deer': 16, 'dog': 12, 'frog': 24, 'horse': 14, 'ship': 90, 'truck': 331}  \n",
    "After epoch 21:  \n",
    "{'plane': 82, 'car': 862, 'bird': 24, 'cat': 37, 'deer': 17, 'dog': 12, 'frog': 29, 'horse': 11, 'ship': 162, 'truck': 472}  \n",
    "After epoch 26:  \n",
    "{'plane': 85, 'car': 900, 'bird': 34, 'cat': 45, 'deer': 22, 'dog': 13, 'frog': 29, 'horse': 36, 'ship': 164, 'truck': 468}\n",
    "\n",
    "\n",
    "\n"
   ]
  },
  {
   "cell_type": "markdown",
   "metadata": {},
   "source": [
    "After 1 epoch of dta augmentation of original + black car images + black not cars:  \n",
    "{'plane': 165, 'car': 789, 'bird': 83, 'cat': 182, 'deer': 113, 'dog': 89, 'frog': 135, 'horse': 161, 'ship': 270, 'truck': 628}   \n",
    "After 2 epochs:   \n",
    "{'plane': 138, 'car': 783, 'bird': 41, 'cat': 63, 'deer': 34, 'dog': 39, 'frog': 42, 'horse': 52, 'ship': 244, 'truck': 578}  \n",
    "After 3 epochs:  \n",
    "{'plane': 60, 'car': 560, 'bird': 13, 'cat': 16, 'deer': 10, 'dog': 6, 'frog': 5, 'horse': 12, 'ship': 78, 'truck': 241}  \n",
    "After 4 epochs:   \n",
    "{'plane': 48, 'car': 710, 'bird': 14, 'cat': 12, 'deer': 9, 'dog': 4, 'frog': 7, 'horse': 11, 'ship': 111, 'truck': 293}  \n",
    "After 5 epochs:  \n",
    "{'plane': 97, 'car': 840, 'bird': 13, 'cat': 20, 'deer': 18, 'dog': 9, 'frog': 22, 'horse': 28, 'ship': 191, 'truck': 461}  \n",
    "After 6 epochs:   \n",
    "{'plane': 42, 'car': 761, 'bird': 9, 'cat': 10, 'deer': 5, 'dog': 1, 'frog': 5, 'horse': 9, 'ship': 113, 'truck': 311}  \n",
    "After 8 epochs:  \n",
    "{'plane': 40, 'car': 784, 'bird': 9, 'cat': 10, 'deer': 4, 'dog': 2, 'frog': 9, 'horse': 3, 'ship': 129, 'truck': 315}  \n",
    "After 10 epochs:  \n",
    "{'plane': 32, 'car': 787, 'bird': 9, 'cat': 13, 'deer': 12, 'dog': 3, 'frog': 13, 'horse': 12, 'ship': 88, 'truck': 248}  \n",
    "After 12 epochs:  \n",
    "{'plane': 52, 'car': 887, 'bird': 17, 'cat': 14, 'deer': 11, 'dog': 7, 'frog': 18, 'horse': 11, 'ship': 159, 'truck': 394}  \n",
    "After 15 epochs:  \n",
    " {'plane': 51, 'car': 856, 'bird': 16, 'cat': 15, 'deer': 13, 'dog': 4, 'frog': 15, 'horse': 10, 'ship': 118, 'truck': 282}  \n",
    "After 17 epochs:   \n",
    "{'plane': 95, 'car': 887, 'bird': 28, 'cat': 22, 'deer': 13, 'dog': 12, 'frog': 28, 'horse': 24, 'ship': 167, 'truck': 349}  \n",
    "After 19 epochs:  \n",
    "{'plane': 62, 'car': 879, 'bird': 16, 'cat': 19, 'deer': 12, 'dog': 6, 'frog': 19, 'horse': 10, 'ship': 159, 'truck': 299}"
   ]
  },
  {
   "cell_type": "code",
   "execution_count": 107,
   "metadata": {
    "collapsed": true
   },
   "outputs": [],
   "source": [
    "classifier.save(\"saliency works! 879_epochs_19_car_conv\")"
   ]
  },
  {
   "cell_type": "code",
   "execution_count": null,
   "metadata": {},
   "outputs": [],
   "source": [
    "result = classifier.predict(x_test[953].reshape(1, IMG_SIZE, IMG_SIZE, 3))\n",
    "print(result)\n",
    "\n",
    "w=10\n",
    "h=10\n",
    "fig=plt.figure(figsize=(8, 8))\n",
    "columns = 4\n",
    "rows = 5\n",
    "# 90\n",
    "for i in range(1, columns*rows +1):\n",
    "    img = x_test[cars_misclassified_as_not[i]]\n",
    "    print(cars_misclassified_as_not[i])\n",
    "    fig.add_subplot(rows, columns, i)\n",
    "    plt.imshow(img)\n",
    "plt.show()"
   ]
  }
 ],
 "metadata": {
  "kernelspec": {
   "display_name": "Python 3",
   "language": "python",
   "name": "python3"
  },
  "language_info": {
   "codemirror_mode": {
    "name": "ipython",
    "version": 3
   },
   "file_extension": ".py",
   "mimetype": "text/x-python",
   "name": "python",
   "nbconvert_exporter": "python",
   "pygments_lexer": "ipython3",
   "version": "3.6.2"
  }
 },
 "nbformat": 4,
 "nbformat_minor": 2
}
